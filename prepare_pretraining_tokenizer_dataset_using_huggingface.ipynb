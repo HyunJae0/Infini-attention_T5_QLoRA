{
 "cells": [
  {
   "cell_type": "code",
   "id": "initial_id",
   "metadata": {
    "collapsed": true,
    "ExecuteTime": {
     "end_time": "2025-07-28T08:06:38.371985Z",
     "start_time": "2025-07-28T08:06:37.912187Z"
    }
   },
   "source": [
    "from datasets import load_dataset, load_from_disk, concatenate_datasets, Dataset, DatasetDict\n",
    "from transformers import T5TokenizerFast, AutoTokenizer\n",
    "from huggingface_hub import notebook_login, create_repo, delete_repo\n",
    "import os\n",
    "\n",
    "current_directory = os.getcwd()"
   ],
   "outputs": [],
   "execution_count": 26
  },
  {
   "metadata": {
    "ExecuteTime": {
     "end_time": "2025-07-28T08:06:53.564207Z",
     "start_time": "2025-07-28T08:06:40.281484Z"
    }
   },
   "cell_type": "code",
   "source": [
    "old_tokenizer = T5TokenizerFast.from_pretrained('t5-small')\n",
    "ds = load_dataset('oliverwang15/us_stock_news_with_price')"
   ],
   "id": "f1479af606d3e7ae",
   "outputs": [],
   "execution_count": 27
  },
  {
   "metadata": {
    "ExecuteTime": {
     "end_time": "2025-07-28T08:06:57.143589Z",
     "start_time": "2025-07-28T08:06:57.130624Z"
    }
   },
   "cell_type": "code",
   "source": [
    "train_ds = ds['train']\n",
    "test_ds = ds['test']"
   ],
   "id": "d7f803fb2fcb288f",
   "outputs": [],
   "execution_count": 28
  },
  {
   "metadata": {
    "ExecuteTime": {
     "end_time": "2025-07-28T08:06:57.604381Z",
     "start_time": "2025-07-28T08:06:57.574436Z"
    }
   },
   "cell_type": "code",
   "source": [
    "train_ds = train_ds.remove_columns(['date', 'title', 'trading_date', 'exact_trading_date', 'ts_-30', 'ts_-29', 'ts_-28', 'ts_-27', 'ts_-26', 'ts_-25', 'ts_-24', 'ts_-23', 'ts_-22', 'ts_-21', 'ts_-20', 'ts_-19', 'ts_-18', 'ts_-17', 'ts_-16', 'ts_-15', 'ts_-14', 'ts_-13', 'ts_-12', 'ts_-11', 'ts_-10', 'ts_-9', 'ts_-8', 'ts_-7', 'ts_-6', 'ts_-5', 'ts_-4', 'ts_-3', 'ts_-2', 'ts_-1', 'ts_0', 'ts_1', 'ts_2', 'ts_3', 'ts_4', 'ts_5', 'ts_6', 'ts_7', 'ts_8', 'ts_9', 'ts_10', 'ts_11', 'ts_12', 'ts_13', 'ts_14', 'ts_15'])\n",
    "\n",
    "test_ds = test_ds.remove_columns(['date', 'title', 'trading_date', 'exact_trading_date', 'ts_-30', 'ts_-29', 'ts_-28', 'ts_-27', 'ts_-26', 'ts_-25', 'ts_-24', 'ts_-23', 'ts_-22', 'ts_-21', 'ts_-20', 'ts_-19', 'ts_-18', 'ts_-17', 'ts_-16', 'ts_-15', 'ts_-14', 'ts_-13', 'ts_-12', 'ts_-11', 'ts_-10', 'ts_-9', 'ts_-8', 'ts_-7', 'ts_-6', 'ts_-5', 'ts_-4', 'ts_-3', 'ts_-2', 'ts_-1', 'ts_0', 'ts_1', 'ts_2', 'ts_3', 'ts_4', 'ts_5', 'ts_6', 'ts_7', 'ts_8', 'ts_9', 'ts_10', 'ts_11', 'ts_12', 'ts_13', 'ts_14', 'ts_15'])"
   ],
   "id": "e4543384cd3fbdc4",
   "outputs": [],
   "execution_count": 29
  },
  {
   "metadata": {
    "ExecuteTime": {
     "end_time": "2025-07-28T08:07:00.704095Z",
     "start_time": "2025-07-28T08:06:59.324757Z"
    }
   },
   "cell_type": "code",
   "source": [
    "def concat_content(example):\n",
    "    result = []\n",
    "    for stock_name, content in zip(example['stock'], example['content']):\n",
    "        content = (\n",
    "            content.replace('\\n', ' '))\n",
    "        result.append(stock_name + ', ' + content)\n",
    "    return {'text': result}\n",
    "\n",
    "ds = train_ds.map(concat_content, batched=True, remove_columns=train_ds.column_names)\n",
    "test_ds = test_ds.map(concat_content, batched=True, remove_columns=test_ds.column_names)"
   ],
   "id": "397347f67c96c48a",
   "outputs": [],
   "execution_count": 30
  },
  {
   "metadata": {
    "ExecuteTime": {
     "end_time": "2025-07-28T08:07:08.905169Z",
     "start_time": "2025-07-28T08:07:04.284494Z"
    }
   },
   "cell_type": "code",
   "source": "ds2 = load_dataset('hyunjaehyun/cc_news_stocks_economy_finance', split='train')",
   "id": "9451bd2d8c19321f",
   "outputs": [],
   "execution_count": 31
  },
  {
   "metadata": {
    "ExecuteTime": {
     "end_time": "2025-07-28T08:07:15.659103Z",
     "start_time": "2025-07-28T08:07:15.630181Z"
    }
   },
   "cell_type": "code",
   "source": [
    "ds2 = ds2.remove_columns('categories')\n",
    "ds2 = ds2.rename_column('plain_text','text')"
   ],
   "id": "f872afeda49f7c07",
   "outputs": [],
   "execution_count": 32
  },
  {
   "metadata": {
    "ExecuteTime": {
     "end_time": "2025-07-28T08:07:16.507834Z",
     "start_time": "2025-07-28T08:07:16.486890Z"
    }
   },
   "cell_type": "code",
   "source": "concat_ds = concatenate_datasets([ds, ds2])",
   "id": "2638d843f3a0028b",
   "outputs": [],
   "execution_count": 33
  },
  {
   "metadata": {
    "ExecuteTime": {
     "end_time": "2025-07-28T08:08:05.802328Z",
     "start_time": "2025-07-28T08:07:17.581987Z"
    }
   },
   "cell_type": "code",
   "source": [
    "def get_training_corpus():\n",
    "    return (concat_ds['text'][i:i+1000] for i in range(0, len(concat_ds['text']), 1000))\n",
    "\n",
    "train_corpus = get_training_corpus()\n",
    "tokenizer = old_tokenizer.train_new_from_iterator(train_corpus, 52000)\n",
    "\n",
    "sos_token = {'bos_token': '<s/>'}\n",
    "tokenizer.add_special_tokens(sos_token)\n",
    "tokenizer.save_pretrained('my_tokenizer')"
   ],
   "id": "b7aa15d75ede65ce",
   "outputs": [
    {
     "data": {
      "text/plain": [
       "1"
      ]
     },
     "execution_count": 34,
     "metadata": {},
     "output_type": "execute_result"
    }
   ],
   "execution_count": 34
  },
  {
   "metadata": {
    "ExecuteTime": {
     "end_time": "2025-07-28T08:08:16.700383Z",
     "start_time": "2025-07-28T08:08:05.889113Z"
    }
   },
   "cell_type": "code",
   "source": [
    "combined_dataset = DatasetDict({\n",
    "    'train': concat_ds,\n",
    "    'test': test_ds\n",
    "})\n",
    "\n",
    "combined_dataset.save_to_disk(current_directory)"
   ],
   "id": "70a3a004e262e194",
   "outputs": [
    {
     "data": {
      "text/plain": [
       "Saving the dataset (0/1 shards):   0%|          | 0/83652 [00:00<?, ? examples/s]"
      ],
      "application/vnd.jupyter.widget-view+json": {
       "version_major": 2,
       "version_minor": 0,
       "model_id": "2730b73dc51b4f6db9441e3972534078"
      }
     },
     "metadata": {},
     "output_type": "display_data"
    },
    {
     "data": {
      "text/plain": [
       "Saving the dataset (0/1 shards):   0%|          | 0/22645 [00:00<?, ? examples/s]"
      ],
      "application/vnd.jupyter.widget-view+json": {
       "version_major": 2,
       "version_minor": 0,
       "model_id": "c4e22f12fb0e46789a3ab434ae9c8ec9"
      }
     },
     "metadata": {},
     "output_type": "display_data"
    }
   ],
   "execution_count": 35
  },
  {
   "metadata": {
    "ExecuteTime": {
     "end_time": "2025-07-28T08:18:15.624384Z",
     "start_time": "2025-07-28T08:18:15.516672Z"
    }
   },
   "cell_type": "code",
   "source": [
    "notebook_login()\n",
    "\n",
    "ds = load_from_disk(current_directory)\n",
    "create_repo(\"dataset_for_t5_pretraining\", repo_type=\"dataset\")\n",
    "ds.push_to_hub(\"hyunjaehyun/dataset_for_t5_pretraining\")"
   ],
   "id": "5c7e53a817764e83",
   "outputs": [],
   "execution_count": null
  },
  {
   "metadata": {},
   "cell_type": "code",
   "outputs": [],
   "execution_count": null,
   "source": "",
   "id": "16fe2ae068eab60e"
  },
  {
   "metadata": {},
   "cell_type": "code",
   "outputs": [],
   "execution_count": null,
   "source": "",
   "id": "8f4ab98b46650b5c"
  },
  {
   "metadata": {
    "ExecuteTime": {
     "end_time": "2025-07-28T08:20:36.494833Z",
     "start_time": "2025-07-28T08:20:30.747198Z"
    }
   },
   "cell_type": "code",
   "source": [
    "ds = load_dataset('hyunjaehyun/dataset_for_t5_pretraining')\n",
    "tokenizer = AutoTokenizer.from_pretrained(current_directory+'\\my_tokenizer')\n",
    "old_tokenizer = T5TokenizerFast.from_pretrained('t5-small')"
   ],
   "id": "8c2da25c885d889c",
   "outputs": [],
   "execution_count": 40
  },
  {
   "metadata": {},
   "cell_type": "code",
   "outputs": [],
   "execution_count": null,
   "source": "# delete_repo(repo_id=\"hyunjaehyun/dataset_for_t5_pretraining\", repo_type=\"dataset\")",
   "id": "40dee105555b54d3"
  },
  {
   "metadata": {
    "ExecuteTime": {
     "end_time": "2025-07-28T08:21:14.086050Z",
     "start_time": "2025-07-28T08:21:14.012248Z"
    }
   },
   "cell_type": "code",
   "source": [
    "ds1 = ds['train']\n",
    "ds2 = ds['test']\n",
    "\n",
    "concat_ds = concatenate_datasets([ds1, ds2])"
   ],
   "id": "ebeb583e85c1d755",
   "outputs": [],
   "execution_count": 41
  },
  {
   "metadata": {
    "ExecuteTime": {
     "end_time": "2025-07-28T08:21:15.089369Z",
     "start_time": "2025-07-28T08:21:15.077401Z"
    }
   },
   "cell_type": "code",
   "source": "text = 'AAPL, RadioShack (RSH +3.7%) should post outsized gains next year, Barclays says, lifting shares to Overweight. Among positive factors: the addition of T-Mobile (DT) as a third wireless carrier; the iPhone (NASDAQ:AAPL); a new branding campaign; and managing wireless kiosks in Target (NYSE:TGT) stores. \"We would be accumulating a position at the current level and view the stock as a solid investment for 2010.\"'",
   "id": "1d341bd1b33ccb73",
   "outputs": [],
   "execution_count": 42
  },
  {
   "metadata": {
    "ExecuteTime": {
     "end_time": "2025-07-28T08:21:15.556119Z",
     "start_time": "2025-07-28T08:21:15.499272Z"
    }
   },
   "cell_type": "code",
   "source": "old_tokenizer.tokenize(text)",
   "id": "41fd4c94841b818b",
   "outputs": [
    {
     "data": {
      "text/plain": [
       "['▁',\n",
       " 'AA',\n",
       " 'PL',\n",
       " ',',\n",
       " '▁Radio',\n",
       " 'S',\n",
       " 'hack',\n",
       " '▁(',\n",
       " 'RS',\n",
       " 'H',\n",
       " '▁+',\n",
       " '3.7',\n",
       " '%)',\n",
       " '▁should',\n",
       " '▁post',\n",
       " '▁out',\n",
       " 'sized',\n",
       " '▁gains',\n",
       " '▁next',\n",
       " '▁year',\n",
       " ',',\n",
       " '▁Bar',\n",
       " 'c',\n",
       " 'lays',\n",
       " '▁says',\n",
       " ',',\n",
       " '▁lifting',\n",
       " '▁shares',\n",
       " '▁to',\n",
       " '▁Over',\n",
       " 'weight',\n",
       " '.',\n",
       " '▁',\n",
       " 'Among',\n",
       " '▁positive',\n",
       " '▁factors',\n",
       " ':',\n",
       " '▁the',\n",
       " '▁addition',\n",
       " '▁of',\n",
       " '▁T',\n",
       " '-',\n",
       " 'Mobile',\n",
       " '▁(',\n",
       " 'DT',\n",
       " ')',\n",
       " '▁as',\n",
       " '▁',\n",
       " 'a',\n",
       " '▁third',\n",
       " '▁wireless',\n",
       " '▁carrier',\n",
       " ';',\n",
       " '▁the',\n",
       " '▁iPhone',\n",
       " '▁(',\n",
       " 'NASDAQ',\n",
       " ':',\n",
       " 'AA',\n",
       " 'PL',\n",
       " ');',\n",
       " '▁',\n",
       " 'a',\n",
       " '▁new',\n",
       " '▁branding',\n",
       " '▁campaign',\n",
       " ';',\n",
       " '▁and',\n",
       " '▁managing',\n",
       " '▁wireless',\n",
       " '▁kiosk',\n",
       " 's',\n",
       " '▁in',\n",
       " '▁Target',\n",
       " '▁(',\n",
       " 'NYSE',\n",
       " ':',\n",
       " 'T',\n",
       " 'GT',\n",
       " ')',\n",
       " '▁stores',\n",
       " '.',\n",
       " '▁\"',\n",
       " 'We',\n",
       " '▁would',\n",
       " '▁be',\n",
       " '▁',\n",
       " 'accumul',\n",
       " 'ating',\n",
       " '▁',\n",
       " 'a',\n",
       " '▁position',\n",
       " '▁at',\n",
       " '▁the',\n",
       " '▁current',\n",
       " '▁level',\n",
       " '▁and',\n",
       " '▁view',\n",
       " '▁the',\n",
       " '▁stock',\n",
       " '▁as',\n",
       " '▁',\n",
       " 'a',\n",
       " '▁solid',\n",
       " '▁investment',\n",
       " '▁for',\n",
       " '▁2010.',\n",
       " '\"']"
      ]
     },
     "execution_count": 43,
     "metadata": {},
     "output_type": "execute_result"
    }
   ],
   "execution_count": 43
  },
  {
   "metadata": {
    "ExecuteTime": {
     "end_time": "2025-07-28T08:21:16.285171Z",
     "start_time": "2025-07-28T08:21:16.275197Z"
    }
   },
   "cell_type": "code",
   "source": "tokenizer.tokenize(text)",
   "id": "ab9e1f712a85ac3",
   "outputs": [
    {
     "data": {
      "text/plain": [
       "['▁AAPL',\n",
       " ',',\n",
       " '▁RadioShack',\n",
       " '▁(',\n",
       " 'RSH',\n",
       " '▁+3.7%)',\n",
       " '▁should',\n",
       " '▁post',\n",
       " '▁',\n",
       " 'outsized',\n",
       " '▁gains',\n",
       " '▁next',\n",
       " '▁year,',\n",
       " '▁Barclays',\n",
       " '▁says,',\n",
       " '▁lifting',\n",
       " '▁shares',\n",
       " '▁to',\n",
       " '▁Overweight.',\n",
       " '▁Among',\n",
       " '▁positive',\n",
       " '▁factors',\n",
       " ':',\n",
       " '▁the',\n",
       " '▁addition',\n",
       " '▁of',\n",
       " '▁T-Mobile',\n",
       " '▁(D',\n",
       " 'T)',\n",
       " '▁as',\n",
       " '▁a',\n",
       " '▁third',\n",
       " '▁wireless',\n",
       " '▁carrier',\n",
       " ';',\n",
       " '▁the',\n",
       " '▁iPhone',\n",
       " '▁(NASDAQ:AAPL)',\n",
       " ';',\n",
       " '▁a',\n",
       " '▁new',\n",
       " '▁branding',\n",
       " '▁campaign',\n",
       " ';',\n",
       " '▁and',\n",
       " '▁managing',\n",
       " '▁wireless',\n",
       " '▁kiosks',\n",
       " '▁in',\n",
       " '▁Target',\n",
       " '▁(NYSE:TGT)',\n",
       " '▁stores.',\n",
       " '▁\"We',\n",
       " '▁would',\n",
       " '▁be',\n",
       " '▁accumulat',\n",
       " 'ing',\n",
       " '▁a',\n",
       " '▁position',\n",
       " '▁at',\n",
       " '▁the',\n",
       " '▁current',\n",
       " '▁level',\n",
       " '▁and',\n",
       " '▁view',\n",
       " '▁the',\n",
       " '▁stock',\n",
       " '▁as',\n",
       " '▁a',\n",
       " '▁solid',\n",
       " '▁investment',\n",
       " '▁for',\n",
       " '▁2010',\n",
       " '.\"']"
      ]
     },
     "execution_count": 44,
     "metadata": {},
     "output_type": "execute_result"
    }
   ],
   "execution_count": 44
  },
  {
   "metadata": {
    "ExecuteTime": {
     "end_time": "2025-07-28T10:51:24.788030Z",
     "start_time": "2025-07-28T10:51:24.709899Z"
    }
   },
   "cell_type": "code",
   "source": "",
   "id": "59bd3464f8b94da0",
   "outputs": [],
   "execution_count": null
  },
  {
   "metadata": {
    "ExecuteTime": {
     "end_time": "2025-07-28T08:33:05.578587Z",
     "start_time": "2025-07-28T08:31:25.472207Z"
    }
   },
   "cell_type": "code",
   "source": [
    "from tqdm.auto import tqdm\n",
    "\n",
    "s = []\n",
    "for text in tqdm(concat_ds['text']):\n",
    "    s.extend(tokenizer.tokenize(text))"
   ],
   "id": "7ff3f8893f791428",
   "outputs": [
    {
     "data": {
      "text/plain": [
       "  0%|          | 0/106297 [00:00<?, ?it/s]"
      ],
      "application/vnd.jupyter.widget-view+json": {
       "version_major": 2,
       "version_minor": 0,
       "model_id": "2593c7ae09354a6a9cbbe8d347c75531"
      }
     },
     "metadata": {},
     "output_type": "display_data"
    }
   ],
   "execution_count": 63
  },
  {
   "metadata": {
    "ExecuteTime": {
     "end_time": "2025-07-28T08:37:42.471871Z",
     "start_time": "2025-07-28T08:37:42.458801Z"
    }
   },
   "cell_type": "code",
   "source": "len(s)",
   "id": "85ecafd9f0c6376e",
   "outputs": [
    {
     "data": {
      "text/plain": [
       "20116974"
      ]
     },
     "execution_count": 69,
     "metadata": {},
     "output_type": "execute_result"
    }
   ],
   "execution_count": 69
  },
  {
   "metadata": {
    "ExecuteTime": {
     "end_time": "2025-07-28T08:47:56.143298Z",
     "start_time": "2025-07-28T08:47:54.674227Z"
    }
   },
   "cell_type": "code",
   "source": [
    "d1 = {'text': []}\n",
    "\n",
    "for i in tqdm(range(0, len(s), 512)):\n",
    "    d1['text'].extend([s[i:i+512]])"
   ],
   "id": "9f4e1ab60f667a30",
   "outputs": [
    {
     "data": {
      "text/plain": [
       "  0%|          | 0/39291 [00:00<?, ?it/s]"
      ],
      "application/vnd.jupyter.widget-view+json": {
       "version_major": 2,
       "version_minor": 0,
       "model_id": "72cc3d08c13148089784e4caa35e2bb5"
      }
     },
     "metadata": {},
     "output_type": "display_data"
    }
   ],
   "execution_count": 116
  },
  {
   "metadata": {
    "ExecuteTime": {
     "end_time": "2025-07-28T08:47:57.060871Z",
     "start_time": "2025-07-28T08:47:57.043890Z"
    }
   },
   "cell_type": "code",
   "source": "len(d1['text'][-1])",
   "id": "765628eb79ebaada",
   "outputs": [
    {
     "data": {
      "text/plain": [
       "494"
      ]
     },
     "execution_count": 117,
     "metadata": {},
     "output_type": "execute_result"
    }
   ],
   "execution_count": 117
  },
  {
   "metadata": {},
   "cell_type": "code",
   "outputs": [],
   "execution_count": null,
   "source": "",
   "id": "ea577d710410df86"
  },
  {
   "metadata": {
    "ExecuteTime": {
     "end_time": "2025-07-28T08:47:59.565687Z",
     "start_time": "2025-07-28T08:47:59.483906Z"
    }
   },
   "cell_type": "code",
   "source": "d1['text'][-1].extend(['<pad>'] * (512-len(d1['text'][-1])))",
   "id": "d95beb51e372a9e4",
   "outputs": [],
   "execution_count": 118
  },
  {
   "metadata": {
    "ExecuteTime": {
     "end_time": "2025-07-28T08:47:59.957639Z",
     "start_time": "2025-07-28T08:47:59.945672Z"
    }
   },
   "cell_type": "code",
   "source": "len(d1['text'][-1])",
   "id": "45211fa340130801",
   "outputs": [
    {
     "data": {
      "text/plain": [
       "512"
      ]
     },
     "execution_count": 119,
     "metadata": {},
     "output_type": "execute_result"
    }
   ],
   "execution_count": 119
  },
  {
   "metadata": {
    "ExecuteTime": {
     "end_time": "2025-07-28T08:48:44.471629Z",
     "start_time": "2025-07-28T08:48:17.170393Z"
    }
   },
   "cell_type": "code",
   "source": "dataset = Dataset.from_dict(d1)",
   "id": "b4b4de998edb72c0",
   "outputs": [],
   "execution_count": 121
  },
  {
   "metadata": {
    "ExecuteTime": {
     "end_time": "2025-07-28T08:48:54.899697Z",
     "start_time": "2025-07-28T08:48:52.247815Z"
    }
   },
   "cell_type": "code",
   "source": "dataset.save_to_disk('token_ids_dataset')",
   "id": "d88aa0b23f22dde0",
   "outputs": [
    {
     "data": {
      "text/plain": [
       "Saving the dataset (0/1 shards):   0%|          | 0/39291 [00:00<?, ? examples/s]"
      ],
      "application/vnd.jupyter.widget-view+json": {
       "version_major": 2,
       "version_minor": 0,
       "model_id": "1cba630bb43843838e581598cdb032cd"
      }
     },
     "metadata": {},
     "output_type": "display_data"
    }
   ],
   "execution_count": 122
  },
  {
   "metadata": {
    "ExecuteTime": {
     "end_time": "2025-07-28T08:48:56.922284Z",
     "start_time": "2025-07-28T08:48:56.079543Z"
    }
   },
   "cell_type": "code",
   "source": "dataset = load_from_disk(current_directory+'\\\\token_ids_dataset')",
   "id": "87a773eb3fb4a12",
   "outputs": [],
   "execution_count": 123
  },
  {
   "metadata": {
    "ExecuteTime": {
     "end_time": "2025-07-28T08:49:04.730377Z",
     "start_time": "2025-07-28T08:49:02.690830Z"
    }
   },
   "cell_type": "code",
   "source": [
    "train_ds = dataset.train_test_split(test_size=0.2)\n",
    "test_ds = train_ds['test'].train_test_split(test_size=0.5)\n",
    "\n",
    "dataset = DatasetDict({\n",
    "    'train': train_ds['train'],\n",
    "    'valid': test_ds['train'],\n",
    "    'test': test_ds['test']\n",
    "})"
   ],
   "id": "11224d4dfb02b12d",
   "outputs": [],
   "execution_count": 124
  },
  {
   "metadata": {
    "ExecuteTime": {
     "end_time": "2025-07-28T08:50:33.787464Z",
     "start_time": "2025-07-28T08:50:33.769513Z"
    }
   },
   "cell_type": "code",
   "source": [
    "# create_repo(\"token_ids_dataset_for_t5_pretraining\", repo_type=\"dataset\")\n",
    "# dataset.push_to_hub(\"hyunjaehyun/token_ids_dataset_for_t5_pretraining\")"
   ],
   "id": "d9e38d415fef4663",
   "outputs": [],
   "execution_count": 130
  },
  {
   "metadata": {
    "ExecuteTime": {
     "end_time": "2025-07-28T08:54:29.974223Z",
     "start_time": "2025-07-28T08:54:29.961232Z"
    }
   },
   "cell_type": "code",
   "source": "",
   "id": "59f579037b0394a5",
   "outputs": [],
   "execution_count": null
  },
  {
   "metadata": {},
   "cell_type": "code",
   "outputs": [],
   "execution_count": null,
   "source": "",
   "id": "90e3ed4897de9a8f"
  }
 ],
 "metadata": {
  "kernelspec": {
   "display_name": "Python 3",
   "language": "python",
   "name": "python3"
  },
  "language_info": {
   "codemirror_mode": {
    "name": "ipython",
    "version": 2
   },
   "file_extension": ".py",
   "mimetype": "text/x-python",
   "name": "python",
   "nbconvert_exporter": "python",
   "pygments_lexer": "ipython2",
   "version": "2.7.6"
  }
 },
 "nbformat": 4,
 "nbformat_minor": 5
}
