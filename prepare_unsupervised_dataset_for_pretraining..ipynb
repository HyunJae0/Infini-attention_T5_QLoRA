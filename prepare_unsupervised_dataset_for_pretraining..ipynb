{
 "cells": [
  {
   "metadata": {
    "ExecuteTime": {
     "end_time": "2025-08-07T06:42:10.500329Z",
     "start_time": "2025-08-07T06:42:06.524572Z"
    }
   },
   "cell_type": "code",
   "source": [
    "from datasets import load_dataset, load_from_disk, Dataset, DatasetDict\n",
    "from transformers import T5TokenizerFast, AutoTokenizer\n",
    "from huggingface_hub import notebook_login, create_repo, delete_repo\n",
    "from tqdm.auto import tqdm\n",
    "import os\n",
    "import re"
   ],
   "id": "5b27eafae0b7dc8e",
   "outputs": [],
   "execution_count": 1
  },
  {
   "metadata": {
    "ExecuteTime": {
     "end_time": "2025-08-07T03:11:41.120280Z",
     "start_time": "2025-08-07T03:11:41.107316Z"
    }
   },
   "cell_type": "code",
   "source": "current_directory = os.getcwd()",
   "id": "initial_id",
   "outputs": [],
   "execution_count": 2
  },
  {
   "metadata": {
    "ExecuteTime": {
     "end_time": "2025-08-07T03:11:45.534226Z",
     "start_time": "2025-08-07T03:11:41.129257Z"
    }
   },
   "cell_type": "code",
   "source": [
    "t5_tokenizer = T5TokenizerFast.from_pretrained('t5-small')\n",
    "gpt2_tokenizer = AutoTokenizer.from_pretrained('gpt2')"
   ],
   "id": "7af35dbbd7872bdb",
   "outputs": [
    {
     "name": "stderr",
     "output_type": "stream",
     "text": [
      "Special tokens have been added in the vocabulary, make sure the associated word embeddings are fine-tuned or trained.\n"
     ]
    }
   ],
   "execution_count": 3
  },
  {
   "metadata": {
    "ExecuteTime": {
     "end_time": "2025-08-07T03:11:45.565999Z",
     "start_time": "2025-08-07T03:11:45.547189Z"
    }
   },
   "cell_type": "code",
   "source": "t5_sentinel_tokens = t5_tokenizer.special_tokens_map['additional_special_tokens']",
   "id": "a2f9cfce7178766b",
   "outputs": [],
   "execution_count": 4
  },
  {
   "metadata": {
    "ExecuteTime": {
     "end_time": "2025-08-07T03:11:45.597841Z",
     "start_time": "2025-08-07T03:11:45.575873Z"
    }
   },
   "cell_type": "code",
   "source": "gpt2_tokenizer.special_tokens_map",
   "id": "9c2e1b687038add8",
   "outputs": [
    {
     "data": {
      "text/plain": [
       "{'bos_token': '<|endoftext|>',\n",
       " 'eos_token': '<|endoftext|>',\n",
       " 'unk_token': '<|endoftext|>'}"
      ]
     },
     "execution_count": 5,
     "metadata": {},
     "output_type": "execute_result"
    }
   ],
   "execution_count": 5
  },
  {
   "metadata": {
    "ExecuteTime": {
     "end_time": "2025-08-07T03:11:45.645686Z",
     "start_time": "2025-08-07T03:11:45.624743Z"
    }
   },
   "cell_type": "code",
   "source": [
    "special_tokens_to_add = {\n",
    "    'bos_token': '<|startoftext|>',\n",
    "    'pad_token': '<pad>',\n",
    "    'additional_special_tokens': t5_sentinel_tokens\n",
    "}\n",
    "gpt2_tokenizer.add_special_tokens(special_tokens_to_add)\n",
    "gpt2_tokenizer.special_tokens_map"
   ],
   "id": "192b045cbb2a8d68",
   "outputs": [
    {
     "data": {
      "text/plain": [
       "{'bos_token': '<|startoftext|>',\n",
       " 'eos_token': '<|endoftext|>',\n",
       " 'unk_token': '<|endoftext|>',\n",
       " 'pad_token': '<pad>',\n",
       " 'additional_special_tokens': ['<extra_id_0>',\n",
       "  '<extra_id_1>',\n",
       "  '<extra_id_2>',\n",
       "  '<extra_id_3>',\n",
       "  '<extra_id_4>',\n",
       "  '<extra_id_5>',\n",
       "  '<extra_id_6>',\n",
       "  '<extra_id_7>',\n",
       "  '<extra_id_8>',\n",
       "  '<extra_id_9>',\n",
       "  '<extra_id_10>',\n",
       "  '<extra_id_11>',\n",
       "  '<extra_id_12>',\n",
       "  '<extra_id_13>',\n",
       "  '<extra_id_14>',\n",
       "  '<extra_id_15>',\n",
       "  '<extra_id_16>',\n",
       "  '<extra_id_17>',\n",
       "  '<extra_id_18>',\n",
       "  '<extra_id_19>',\n",
       "  '<extra_id_20>',\n",
       "  '<extra_id_21>',\n",
       "  '<extra_id_22>',\n",
       "  '<extra_id_23>',\n",
       "  '<extra_id_24>',\n",
       "  '<extra_id_25>',\n",
       "  '<extra_id_26>',\n",
       "  '<extra_id_27>',\n",
       "  '<extra_id_28>',\n",
       "  '<extra_id_29>',\n",
       "  '<extra_id_30>',\n",
       "  '<extra_id_31>',\n",
       "  '<extra_id_32>',\n",
       "  '<extra_id_33>',\n",
       "  '<extra_id_34>',\n",
       "  '<extra_id_35>',\n",
       "  '<extra_id_36>',\n",
       "  '<extra_id_37>',\n",
       "  '<extra_id_38>',\n",
       "  '<extra_id_39>',\n",
       "  '<extra_id_40>',\n",
       "  '<extra_id_41>',\n",
       "  '<extra_id_42>',\n",
       "  '<extra_id_43>',\n",
       "  '<extra_id_44>',\n",
       "  '<extra_id_45>',\n",
       "  '<extra_id_46>',\n",
       "  '<extra_id_47>',\n",
       "  '<extra_id_48>',\n",
       "  '<extra_id_49>',\n",
       "  '<extra_id_50>',\n",
       "  '<extra_id_51>',\n",
       "  '<extra_id_52>',\n",
       "  '<extra_id_53>',\n",
       "  '<extra_id_54>',\n",
       "  '<extra_id_55>',\n",
       "  '<extra_id_56>',\n",
       "  '<extra_id_57>',\n",
       "  '<extra_id_58>',\n",
       "  '<extra_id_59>',\n",
       "  '<extra_id_60>',\n",
       "  '<extra_id_61>',\n",
       "  '<extra_id_62>',\n",
       "  '<extra_id_63>',\n",
       "  '<extra_id_64>',\n",
       "  '<extra_id_65>',\n",
       "  '<extra_id_66>',\n",
       "  '<extra_id_67>',\n",
       "  '<extra_id_68>',\n",
       "  '<extra_id_69>',\n",
       "  '<extra_id_70>',\n",
       "  '<extra_id_71>',\n",
       "  '<extra_id_72>',\n",
       "  '<extra_id_73>',\n",
       "  '<extra_id_74>',\n",
       "  '<extra_id_75>',\n",
       "  '<extra_id_76>',\n",
       "  '<extra_id_77>',\n",
       "  '<extra_id_78>',\n",
       "  '<extra_id_79>',\n",
       "  '<extra_id_80>',\n",
       "  '<extra_id_81>',\n",
       "  '<extra_id_82>',\n",
       "  '<extra_id_83>',\n",
       "  '<extra_id_84>',\n",
       "  '<extra_id_85>',\n",
       "  '<extra_id_86>',\n",
       "  '<extra_id_87>',\n",
       "  '<extra_id_88>',\n",
       "  '<extra_id_89>',\n",
       "  '<extra_id_90>',\n",
       "  '<extra_id_91>',\n",
       "  '<extra_id_92>',\n",
       "  '<extra_id_93>',\n",
       "  '<extra_id_94>',\n",
       "  '<extra_id_95>',\n",
       "  '<extra_id_96>',\n",
       "  '<extra_id_97>',\n",
       "  '<extra_id_98>',\n",
       "  '<extra_id_99>']}"
      ]
     },
     "execution_count": 6,
     "metadata": {},
     "output_type": "execute_result"
    }
   ],
   "execution_count": 6
  },
  {
   "metadata": {
    "ExecuteTime": {
     "end_time": "2025-08-07T03:11:45.709516Z",
     "start_time": "2025-08-07T03:11:45.671618Z"
    }
   },
   "cell_type": "code",
   "source": [
    "vocab = gpt2_tokenizer.get_vocab()\n",
    "print(len(vocab)); print(vocab['<extra_id_99>']); print(vocab['<extra_id_0>'])"
   ],
   "id": "e48cc9e121e52c31",
   "outputs": [
    {
     "name": "stdout",
     "output_type": "stream",
     "text": [
      "50359\n",
      "50358\n",
      "50259\n"
     ]
    }
   ],
   "execution_count": 7
  },
  {
   "metadata": {
    "ExecuteTime": {
     "end_time": "2025-08-07T03:11:45.741431Z",
     "start_time": "2025-08-07T03:11:45.734449Z"
    }
   },
   "cell_type": "code",
   "source": "print(vocab['<|startoftext|>']); print(vocab['<|endoftext|>']); print(vocab['<pad>'])",
   "id": "ccc58c07de415136",
   "outputs": [
    {
     "name": "stdout",
     "output_type": "stream",
     "text": [
      "50257\n",
      "50256\n",
      "50258\n"
     ]
    }
   ],
   "execution_count": 8
  },
  {
   "metadata": {
    "ExecuteTime": {
     "end_time": "2025-08-07T03:11:45.868407Z",
     "start_time": "2025-08-07T03:11:45.756391Z"
    }
   },
   "cell_type": "code",
   "source": "gpt2_tokenizer.save_pretrained('my_gpt2_tokenizer')",
   "id": "a69d0fa50bdd35f0",
   "outputs": [
    {
     "data": {
      "text/plain": [
       "('my_gpt2_tokenizer\\\\tokenizer_config.json',\n",
       " 'my_gpt2_tokenizer\\\\special_tokens_map.json',\n",
       " 'my_gpt2_tokenizer\\\\vocab.json',\n",
       " 'my_gpt2_tokenizer\\\\merges.txt',\n",
       " 'my_gpt2_tokenizer\\\\added_tokens.json',\n",
       " 'my_gpt2_tokenizer\\\\tokenizer.json')"
      ]
     },
     "execution_count": 9,
     "metadata": {},
     "output_type": "execute_result"
    }
   ],
   "execution_count": 9
  },
  {
   "metadata": {
    "ExecuteTime": {
     "end_time": "2025-08-07T03:11:45.899936Z",
     "start_time": "2025-08-07T03:11:45.884977Z"
    }
   },
   "cell_type": "code",
   "source": "len(vocab)",
   "id": "c5240c6600862cc",
   "outputs": [
    {
     "data": {
      "text/plain": [
       "50359"
      ]
     },
     "execution_count": 10,
     "metadata": {},
     "output_type": "execute_result"
    }
   ],
   "execution_count": 10
  },
  {
   "metadata": {
    "ExecuteTime": {
     "end_time": "2025-08-07T03:11:45.930853Z",
     "start_time": "2025-08-07T03:11:45.912902Z"
    }
   },
   "cell_type": "code",
   "source": "",
   "id": "60cbb40de42d6ecd",
   "outputs": [],
   "execution_count": null
  },
  {
   "metadata": {
    "ExecuteTime": {
     "end_time": "2025-08-07T03:11:46.611010Z",
     "start_time": "2025-08-07T03:11:45.950776Z"
    }
   },
   "cell_type": "code",
   "source": "tokenizer = AutoTokenizer.from_pretrained(current_directory+'\\my_gpt2_tokenizer')",
   "id": "2b0d13b31d969d7d",
   "outputs": [],
   "execution_count": 11
  },
  {
   "metadata": {
    "ExecuteTime": {
     "end_time": "2025-08-07T03:34:27.976725Z",
     "start_time": "2025-08-07T03:34:25.096781Z"
    }
   },
   "cell_type": "code",
   "source": "ds = load_dataset('genloop/bloomberg_financial_news_120k', split='train')",
   "id": "3947629b1dc1d0a",
   "outputs": [],
   "execution_count": 31
  },
  {
   "metadata": {
    "ExecuteTime": {
     "end_time": "2025-08-07T03:34:28.007671Z",
     "start_time": "2025-08-07T03:34:27.993686Z"
    }
   },
   "cell_type": "code",
   "source": "print(ds)",
   "id": "bccfa16369d8c64f",
   "outputs": [
    {
     "name": "stdout",
     "output_type": "stream",
     "text": [
      "Dataset({\n",
      "    features: ['Headline', 'Journalists', 'Date', 'Link', 'Article'],\n",
      "    num_rows: 120000\n",
      "})\n"
     ]
    }
   ],
   "execution_count": 32
  },
  {
   "metadata": {
    "ExecuteTime": {
     "end_time": "2025-08-07T03:34:28.039560Z",
     "start_time": "2025-08-07T03:34:28.023603Z"
    }
   },
   "cell_type": "code",
   "source": "ds = ds.remove_columns(['Headline', 'Journalists', 'Date', 'Link'])",
   "id": "aa9a4448820228ee",
   "outputs": [],
   "execution_count": 33
  },
  {
   "metadata": {
    "ExecuteTime": {
     "end_time": "2025-08-07T03:34:29.211427Z",
     "start_time": "2025-08-07T03:34:28.045545Z"
    }
   },
   "cell_type": "code",
   "source": "ds['Article'][0]",
   "id": "dff1b6a1ac26aab8",
   "outputs": [
    {
     "data": {
      "text/plain": [
       "'Marriott International Inc. (MAR) , the largest publicly traded U.S. hotel chain, cut its full-year profit forecast after reporting second-quarter results that were in line with analysts’ estimates. The company expects earnings per share for the third quarter of 42 cents to 46 cents, less than the 49-cent average of 29 analyst estimates compiled by Bloomberg. Marriott projected full-year earnings of $1.92 to $2.03 a share, which would miss both the $2.04 that analysts are estimating and the company’s own previous guidance of $1.93 to $2.08. Slowing demand from business groups and U.S. government cutbacks in travel spending weighed on Bethesda, Maryland-based Marriott’s second-quarter earnings, while weakening hotel use abroad may hamper results for the rest of the year, according to Chief Executive Officer Arne Sorenson. “Looking at group business, we remain encouraged in terms of long-term bookings, but short-term group business weakened in the U.S. as the quarter progressed,” Sorenson said on a conference call with investors. “Our large convention hotels and our hotels in Washington and Boston were particularly impacted as group demand weakened.” The company is “still experiencing a lingering effect from the recession” and is taking a “more conservative view” of demand trends for Asia and the Middle East, Sorensen said. Revpar Growth Second-quarter earnings of 57 cents a share matched the average of 17 analyst estimates compiled by Bloomberg. Net income rose to $179 million from $143 million, or 42 cents, a year earlier, the company said yesterday in a statement. Revenue per available room, an industry measure of occupancies and rates, climbed 5.3 percent from a year earlier at company-operated hotels in North America. Worldwide, revpar increased 4.7 percent, according to the statement. Marriott in May projected second-quarter earnings of 55 cents to 59 cents a share and said it expected revpar to increase 5 percent to 7 percent in North America, 2 percent to 4 percent outside North America and 4 percent to 6 percent worldwide. “International revenue growth has been quite tepid,” Nikhil Bhalla, an analyst at FBR & Co. (FBRC) in Arlington, Virginia, said after the earnings were announced. “Softening demand in Europe and Asia will weigh on them for the remainder of the year.” Total revenue rose to $3.26 billion in the second quarter from $2.78 billion a year earlier. Starwood, Hyatt Starwood Hotels & Resorts Worldwide Inc. (HOT) , owner of the luxury St. Regis and W brands, last week said second-quarter earnings climbed 12 percent, helped by cost cuts and sales of vacation units at the company’s South Florida resort. Hyatt Hotels Corp. (H) , the chain controlled by the Pritzker family, yesterday said its second-quarter profit almost tripled as demand climbed at its U.S. properties. Marriott rose 0.2 percent to $41.58 in New York trading. To contact the reporter on this story: Nadja Brandt in Los Angeles at  nbrandt@bloomberg.net  To contact the editor responsible for this story: Kara Wetzel at  kwetzel@bloomberg.net'"
      ]
     },
     "execution_count": 34,
     "metadata": {},
     "output_type": "execute_result"
    }
   ],
   "execution_count": 34
  },
  {
   "metadata": {
    "ExecuteTime": {
     "end_time": "2025-08-07T03:34:29.259299Z",
     "start_time": "2025-08-07T03:34:29.243342Z"
    }
   },
   "cell_type": "code",
   "source": [
    "def preprocessing_text(examples):\n",
    "    allowed_chars = r\"/.,:;’-+%$?!'\\\"\"\n",
    "    allowed_pattern = f'[^a-zA-Z0-9\\s{re.escape(allowed_chars)}]'\n",
    "    texts = []\n",
    "\n",
    "    for text in examples['Article']:\n",
    "        # re.split를 사용하여 'To contact the reporter'를 기준으로 문장을 나눔, 나눈 결과의 첫 번째 요소([0])만 가져와서\n",
    "        # To contact the reporter 이후 모두 제거\n",
    "        text = re.split('To contact the reporter', text)[0]\n",
    "        text = text.lower()\n",
    "        text = re.sub(r'\\s*\\([^)]*\\)\\s*,?', '', text) # 소괄호() 포함 소괄호 안에 있는 문자 제거\n",
    "        text = text.replace('\\n', ' ') # \\n을 제거하고 공백으로 대체\n",
    "        text = re.sub(r'-{2,}', ' ', text) # 연속된 하이폰(-) 2개 이상을 공백으로 대체\n",
    "        text = re.sub(r'\\.{2,}', ' ', text) # 연속된 마침표(.) 2개 이상을 공백으로 대체\n",
    "        text = re.sub(allowed_pattern, ' ', text) # allowed_pattern외에 제거\n",
    "        text = re.sub(r'\\s+', ' ', text).strip() # 연속되는 공백 하나의 공백으로\n",
    "        texts.append(text)\n",
    "\n",
    "    return {'text':texts}\n"
   ],
   "id": "137616471c0d436b",
   "outputs": [],
   "execution_count": 35
  },
  {
   "metadata": {
    "ExecuteTime": {
     "end_time": "2025-08-07T03:34:29.338326Z",
     "start_time": "2025-08-07T03:34:29.272265Z"
    }
   },
   "cell_type": "code",
   "source": "ds = ds.map(preprocessing_text, batched=True, remove_columns=ds.column_names)",
   "id": "369be58d8e4c0f08",
   "outputs": [],
   "execution_count": 36
  },
  {
   "metadata": {
    "ExecuteTime": {
     "end_time": "2025-08-07T03:38:18.428925Z",
     "start_time": "2025-08-07T03:35:23.308830Z"
    }
   },
   "cell_type": "code",
   "source": [
    "s = []\n",
    "for text in tqdm(ds['text']):\n",
    "    s.extend(tokenizer.encode(text, add_special_tokens=False))"
   ],
   "id": "32570a25c2ef26e3",
   "outputs": [
    {
     "data": {
      "text/plain": [
       "  0%|          | 0/120000 [00:00<?, ?it/s]"
      ],
      "application/vnd.jupyter.widget-view+json": {
       "version_major": 2,
       "version_minor": 0,
       "model_id": "1aa8b9258adf4ae48e253c36f317b544"
      }
     },
     "metadata": {},
     "output_type": "display_data"
    }
   ],
   "execution_count": 37
  },
  {
   "metadata": {
    "ExecuteTime": {
     "end_time": "2025-08-07T03:38:18.460839Z",
     "start_time": "2025-08-07T03:38:18.450867Z"
    }
   },
   "cell_type": "code",
   "source": "len(s)",
   "id": "a8c4b65504839793",
   "outputs": [
    {
     "data": {
      "text/plain": [
       "68427731"
      ]
     },
     "execution_count": 38,
     "metadata": {},
     "output_type": "execute_result"
    }
   ],
   "execution_count": 38
  },
  {
   "metadata": {
    "ExecuteTime": {
     "end_time": "2025-08-07T03:43:33.068466Z",
     "start_time": "2025-08-07T03:43:21.947899Z"
    }
   },
   "cell_type": "code",
   "source": [
    "d1 = {'text': []}\n",
    "\n",
    "for i in tqdm(range(0, len(s), 512)):\n",
    "    d1['text'].extend([s[i:i+512]])"
   ],
   "id": "ed9f726771ed3c96",
   "outputs": [
    {
     "data": {
      "text/plain": [
       "  0%|          | 0/133648 [00:00<?, ?it/s]"
      ],
      "application/vnd.jupyter.widget-view+json": {
       "version_major": 2,
       "version_minor": 0,
       "model_id": "b045bc65766b4dc7964ec74362a7d8b9"
      }
     },
     "metadata": {},
     "output_type": "display_data"
    }
   ],
   "execution_count": 39
  },
  {
   "metadata": {
    "ExecuteTime": {
     "end_time": "2025-08-07T03:43:33.108360Z",
     "start_time": "2025-08-07T03:43:33.092401Z"
    }
   },
   "cell_type": "code",
   "source": "len(d1['text'][-2]), len(d1['text'][-1])",
   "id": "7d2a09674404714d",
   "outputs": [
    {
     "data": {
      "text/plain": [
       "(512, 467)"
      ]
     },
     "execution_count": 40,
     "metadata": {},
     "output_type": "execute_result"
    }
   ],
   "execution_count": 40
  },
  {
   "metadata": {
    "ExecuteTime": {
     "end_time": "2025-08-07T03:43:48.459980Z",
     "start_time": "2025-08-07T03:43:48.416071Z"
    }
   },
   "cell_type": "code",
   "source": "d1['text'].pop()",
   "id": "b394af378d374a26",
   "outputs": [
    {
     "data": {
      "text/plain": [
       "[1744,\n",
       " 4277,\n",
       " 13,\n",
       " 1111,\n",
       " 21824,\n",
       " 19952,\n",
       " 329,\n",
       " 257,\n",
       " 717,\n",
       " 6246,\n",
       " 287,\n",
       " 1115,\n",
       " 706,\n",
       " 7463,\n",
       " 362,\n",
       " 13,\n",
       " 21,\n",
       " 1411,\n",
       " 319,\n",
       " 474,\n",
       " 2062,\n",
       " 2808,\n",
       " 319,\n",
       " 2328,\n",
       " 6130,\n",
       " 561,\n",
       " 2038,\n",
       " 284,\n",
       " 4439,\n",
       " 281,\n",
       " 8178,\n",
       " 13,\n",
       " 1231,\n",
       " 281,\n",
       " 4381,\n",
       " 11,\n",
       " 262,\n",
       " 334,\n",
       " 13,\n",
       " 82,\n",
       " 13,\n",
       " 743,\n",
       " 423,\n",
       " 4277,\n",
       " 276,\n",
       " 9439,\n",
       " 13,\n",
       " 262,\n",
       " 2156,\n",
       " 3352,\n",
       " 5690,\n",
       " 319,\n",
       " 262,\n",
       " 3953,\n",
       " 1909,\n",
       " 11,\n",
       " 290,\n",
       " 262,\n",
       " 34548,\n",
       " 743,\n",
       " 1061,\n",
       " 6050,\n",
       " 13,\n",
       " 21824,\n",
       " 547,\n",
       " 36675,\n",
       " 276,\n",
       " 416,\n",
       " 1705,\n",
       " 625,\n",
       " 257,\n",
       " 15223,\n",
       " 4381,\n",
       " 284,\n",
       " 2620,\n",
       " 262,\n",
       " 5057,\n",
       " 13387,\n",
       " 706,\n",
       " 9825,\n",
       " 625,\n",
       " 262,\n",
       " 5041,\n",
       " 11,\n",
       " 424,\n",
       " 67,\n",
       " 461,\n",
       " 1477,\n",
       " 1437,\n",
       " 555,\n",
       " 17187,\n",
       " 37518,\n",
       " 12647,\n",
       " 11,\n",
       " 281,\n",
       " 12499,\n",
       " 379,\n",
       " 2318,\n",
       " 565,\n",
       " 592,\n",
       " 3139,\n",
       " 287,\n",
       " 300,\n",
       " 3391,\n",
       " 11,\n",
       " 531,\n",
       " 287,\n",
       " 257,\n",
       " 989,\n",
       " 1909,\n",
       " 13,\n",
       " 17135,\n",
       " 329,\n",
       " 390,\n",
       " 3273,\n",
       " 7585,\n",
       " 8618,\n",
       " 1105,\n",
       " 13,\n",
       " 2425,\n",
       " 16059,\n",
       " 11,\n",
       " 393,\n",
       " 352,\n",
       " 13,\n",
       " 23,\n",
       " 1411,\n",
       " 11,\n",
       " 284,\n",
       " 720,\n",
       " 22,\n",
       " 13,\n",
       " 26279,\n",
       " 257,\n",
       " 1323,\n",
       " 2978,\n",
       " 416,\n",
       " 352,\n",
       " 25,\n",
       " 1314,\n",
       " 279,\n",
       " 13,\n",
       " 76,\n",
       " 13,\n",
       " 300,\n",
       " 3391,\n",
       " 640,\n",
       " 319,\n",
       " 262,\n",
       " 442,\n",
       " 4549,\n",
       " 3096,\n",
       " 286,\n",
       " 3292,\n",
       " 13,\n",
       " 3939,\n",
       " 278,\n",
       " 17135,\n",
       " 329,\n",
       " 645,\n",
       " 303,\n",
       " 1916,\n",
       " 7585,\n",
       " 14018,\n",
       " 319,\n",
       " 299,\n",
       " 88,\n",
       " 325,\n",
       " 300,\n",
       " 22391,\n",
       " 287,\n",
       " 1582,\n",
       " 271,\n",
       " 2087,\n",
       " 352,\n",
       " 11063,\n",
       " 11,\n",
       " 393,\n",
       " 657,\n",
       " 13,\n",
       " 20,\n",
       " 1411,\n",
       " 11,\n",
       " 284,\n",
       " 2757,\n",
       " 13,\n",
       " 2425,\n",
       " 11063,\n",
       " 11400,\n",
       " 18663,\n",
       " 5680,\n",
       " 13,\n",
       " 11676,\n",
       " 329,\n",
       " 390,\n",
       " 3273,\n",
       " 7585,\n",
       " 6190,\n",
       " 807,\n",
       " 13,\n",
       " 2425,\n",
       " 16059,\n",
       " 11,\n",
       " 393,\n",
       " 352,\n",
       " 13,\n",
       " 18,\n",
       " 1411,\n",
       " 11,\n",
       " 284,\n",
       " 720,\n",
       " 21,\n",
       " 13,\n",
       " 34483,\n",
       " 257,\n",
       " 1323,\n",
       " 2978,\n",
       " 287,\n",
       " 442,\n",
       " 4549,\n",
       " 13,\n",
       " 4536,\n",
       " 389,\n",
       " 510,\n",
       " 767,\n",
       " 13,\n",
       " 22,\n",
       " 1411,\n",
       " 428,\n",
       " 614,\n",
       " 11,\n",
       " 1642,\n",
       " 11676,\n",
       " 262,\n",
       " 1218,\n",
       " 12,\n",
       " 13466,\n",
       " 12,\n",
       " 37440,\n",
       " 13020,\n",
       " 287,\n",
       " 2813,\n",
       " 2157,\n",
       " 11464,\n",
       " 11,\n",
       " 543,\n",
       " 468,\n",
       " 2087,\n",
       " 1315,\n",
       " 1411,\n",
       " 13,\n",
       " 11702,\n",
       " 2766,\n",
       " 4251,\n",
       " 257,\n",
       " 20953,\n",
       " 4381,\n",
       " 284,\n",
       " 5298,\n",
       " 262,\n",
       " 720,\n",
       " 1415,\n",
       " 13,\n",
       " 18,\n",
       " 12989,\n",
       " 5057,\n",
       " 13387,\n",
       " 416,\n",
       " 379,\n",
       " 1551,\n",
       " 720,\n",
       " 17,\n",
       " 13,\n",
       " 16,\n",
       " 12989,\n",
       " 290,\n",
       " 24632,\n",
       " 1230,\n",
       " 4581,\n",
       " 416,\n",
       " 720,\n",
       " 17,\n",
       " 13,\n",
       " 19,\n",
       " 12989,\n",
       " 393,\n",
       " 517,\n",
       " 13,\n",
       " 8246,\n",
       " 5696,\n",
       " 422,\n",
       " 14897,\n",
       " 3056,\n",
       " 284,\n",
       " 19783,\n",
       " 6190,\n",
       " 13,\n",
       " 262,\n",
       " 1903,\n",
       " 10303,\n",
       " 287,\n",
       " 262,\n",
       " 19464,\n",
       " 3716,\n",
       " 3729,\n",
       " 3568,\n",
       " 284,\n",
       " 307,\n",
       " 8165,\n",
       " 284,\n",
       " 262,\n",
       " 5057,\n",
       " 1705,\n",
       " 326,\n",
       " 447,\n",
       " 247,\n",
       " 82,\n",
       " 1282,\n",
       " 503,\n",
       " 286,\n",
       " 262,\n",
       " 334,\n",
       " 13,\n",
       " 82,\n",
       " 1539,\n",
       " 531,\n",
       " 300,\n",
       " 4649,\n",
       " 2603,\n",
       " 40645,\n",
       " 837,\n",
       " 257,\n",
       " 19464,\n",
       " 25651,\n",
       " 379,\n",
       " 2219,\n",
       " 14298,\n",
       " 3331,\n",
       " 286,\n",
       " 38132,\n",
       " 1373,\n",
       " 544,\n",
       " 13,\n",
       " 262,\n",
       " 5939,\n",
       " 423,\n",
       " 7082,\n",
       " 845,\n",
       " 19888,\n",
       " 13,\n",
       " 17797,\n",
       " 44749,\n",
       " 12080,\n",
       " 645,\n",
       " 303,\n",
       " 1916,\n",
       " 12,\n",
       " 12381,\n",
       " 6315,\n",
       " 17797,\n",
       " 44749,\n",
       " 8278,\n",
       " 1478,\n",
       " 13,\n",
       " 2425,\n",
       " 16059,\n",
       " 11,\n",
       " 393,\n",
       " 352,\n",
       " 13,\n",
       " 16,\n",
       " 1411,\n",
       " 11,\n",
       " 284,\n",
       " 720,\n",
       " 1485,\n",
       " 13,\n",
       " 4761,\n",
       " 257,\n",
       " 1323,\n",
       " 2978,\n",
       " 13,\n",
       " 262,\n",
       " 3056,\n",
       " 28826,\n",
       " 8618,\n",
       " 329,\n",
       " 257,\n",
       " 717,\n",
       " 6246,\n",
       " 287,\n",
       " 1440,\n",
       " 13,\n",
       " 11676,\n",
       " 290,\n",
       " 17797,\n",
       " 14289,\n",
       " 14450,\n",
       " 287,\n",
       " 18391,\n",
       " 290,\n",
       " 12591,\n",
       " 9539,\n",
       " 389,\n",
       " 1884,\n",
       " 284,\n",
       " 1986,\n",
       " 3220,\n",
       " 5503,\n",
       " 287,\n",
       " 262,\n",
       " 334,\n",
       " 13,\n",
       " 82,\n",
       " 13,\n",
       " 3095,\n",
       " 7038,\n",
       " 355,\n",
       " 37546,\n",
       " 11,\n",
       " 1454,\n",
       " 263,\n",
       " 6193,\n",
       " 35545,\n",
       " 832,\n",
       " 262,\n",
       " 1903,\n",
       " 636,\n",
       " 286,\n",
       " 428,\n",
       " 1285,\n",
       " 878,\n",
       " 32290,\n",
       " 290,\n",
       " 517,\n",
       " 21819,\n",
       " 6193,\n",
       " 1441,\n",
       " 1568,\n",
       " 287,\n",
       " 262,\n",
       " 2278,\n",
       " 11,\n",
       " 2525,\n",
       " 417,\n",
       " 15601,\n",
       " 952,\n",
       " 11,\n",
       " 4664,\n",
       " 14240,\n",
       " 19999,\n",
       " 7451,\n",
       " 379,\n",
       " 13632,\n",
       " 1151,\n",
       " 288,\n",
       " 34106,\n",
       " 753,\n",
       " 1539,\n",
       " 531,\n",
       " 287,\n",
       " 257,\n",
       " 11092,\n",
       " 474,\n",
       " 2062,\n",
       " 2808,\n",
       " 13]"
      ]
     },
     "execution_count": 41,
     "metadata": {},
     "output_type": "execute_result"
    }
   ],
   "execution_count": 41
  },
  {
   "metadata": {
    "ExecuteTime": {
     "end_time": "2025-08-07T03:44:19.815196Z",
     "start_time": "2025-08-07T03:44:02.012261Z"
    }
   },
   "cell_type": "code",
   "source": "dataset = Dataset.from_dict(d1)",
   "id": "1848777d1ac536d8",
   "outputs": [],
   "execution_count": 42
  },
  {
   "metadata": {
    "ExecuteTime": {
     "end_time": "2025-08-07T03:44:19.969357Z",
     "start_time": "2025-08-07T03:44:19.897743Z"
    }
   },
   "cell_type": "code",
   "source": "print(dataset)",
   "id": "e72125bf98a113d1",
   "outputs": [
    {
     "name": "stdout",
     "output_type": "stream",
     "text": [
      "Dataset({\n",
      "    features: ['text'],\n",
      "    num_rows: 133647\n",
      "})\n"
     ]
    }
   ],
   "execution_count": 43
  },
  {
   "metadata": {
    "ExecuteTime": {
     "end_time": "2025-08-07T03:44:21.160422Z",
     "start_time": "2025-08-07T03:44:19.996039Z"
    }
   },
   "cell_type": "code",
   "source": [
    "train_ds = dataset.train_test_split(test_size=0.2)\n",
    "\n",
    "dataset = DatasetDict({\n",
    "    'train': train_ds['train'],\n",
    "    'valid': train_ds['test'],\n",
    "})"
   ],
   "id": "ae41b2f83b40a777",
   "outputs": [],
   "execution_count": 44
  },
  {
   "metadata": {
    "ExecuteTime": {
     "end_time": "2025-08-07T03:44:25.456718Z",
     "start_time": "2025-08-07T03:44:21.298460Z"
    }
   },
   "cell_type": "code",
   "source": [
    "dataset.save_to_disk('token_ids_dataset_for_t5_pretraining')\n",
    "dataset = load_from_disk(current_directory+'\\\\token_ids_dataset_for_t5_pretraining')"
   ],
   "id": "36ab2023c5ccec66",
   "outputs": [
    {
     "data": {
      "text/plain": [
       "Saving the dataset (0/1 shards):   0%|          | 0/106917 [00:00<?, ? examples/s]"
      ],
      "application/vnd.jupyter.widget-view+json": {
       "version_major": 2,
       "version_minor": 0,
       "model_id": "54d5cd6a835c4613a390e80b8c848c1c"
      }
     },
     "metadata": {},
     "output_type": "display_data"
    },
    {
     "data": {
      "text/plain": [
       "Saving the dataset (0/1 shards):   0%|          | 0/26730 [00:00<?, ? examples/s]"
      ],
      "application/vnd.jupyter.widget-view+json": {
       "version_major": 2,
       "version_minor": 0,
       "model_id": "722393fb2c954983bd56b85f1c7beb57"
      }
     },
     "metadata": {},
     "output_type": "display_data"
    }
   ],
   "execution_count": 45
  },
  {
   "metadata": {
    "ExecuteTime": {
     "end_time": "2025-08-07T03:45:42.456341Z",
     "start_time": "2025-08-07T03:45:42.447367Z"
    }
   },
   "cell_type": "code",
   "source": [
    "create_repo(\"token_ids_dataset_for_t5_pretraining\", repo_type=\"dataset\")\n",
    "dataset.push_to_hub(\"hyunjaehyun/token_ids_dataset_for_t5_pretraining\")"
   ],
   "id": "2ba7b3f142541e5b",
   "outputs": [],
   "execution_count": null
  },
  {
   "metadata": {
    "ExecuteTime": {
     "end_time": "2025-08-07T03:45:11.884242Z",
     "start_time": "2025-08-07T03:45:10.371126Z"
    }
   },
   "cell_type": "code",
   "source": [
    "#from huggingface_hub import delete_repo\n",
    "#delete_repo(repo_id=\"hyunjaehyun/token_ids_dataset_for_t5_pretraining\", repo_type=\"dataset\")"
   ],
   "id": "82a52426b0781ec3",
   "outputs": [],
   "execution_count": 48
  },
  {
   "metadata": {},
   "cell_type": "code",
   "outputs": [],
   "execution_count": null,
   "source": [
    "여기까지가 찐막으로 만든 데이터셋, 아래는 이전에 실험용으로 한 것.\n",
    "그러니 깃허브 올릴 때에는 이 파일 복사한 다음에, 아랫 부분 제거해서 올릴 것"
   ],
   "id": "e1b981a0ef6eccd"
  },
  {
   "metadata": {},
   "cell_type": "code",
   "outputs": [],
   "execution_count": null,
   "source": "",
   "id": "22cc8798cd7ec11"
  },
  {
   "metadata": {
    "ExecuteTime": {
     "end_time": "2025-08-07T03:12:00.282144Z",
     "start_time": "2025-08-07T03:11:58.509017Z"
    }
   },
   "cell_type": "code",
   "source": "import nltk",
   "id": "50e74febf7727739",
   "outputs": [],
   "execution_count": 18
  },
  {
   "metadata": {
    "ExecuteTime": {
     "end_time": "2025-08-07T03:12:00.469318Z",
     "start_time": "2025-08-07T03:12:00.289128Z"
    }
   },
   "cell_type": "code",
   "source": "nltk.download('punkt')",
   "id": "bbdcd8a9454b0222",
   "outputs": [
    {
     "name": "stderr",
     "output_type": "stream",
     "text": [
      "[nltk_data] Downloading package punkt to\n",
      "[nltk_data]     C:\\Users\\USER\\AppData\\Roaming\\nltk_data...\n",
      "[nltk_data]   Package punkt is already up-to-date!\n"
     ]
    },
    {
     "data": {
      "text/plain": [
       "True"
      ]
     },
     "execution_count": 19,
     "metadata": {},
     "output_type": "execute_result"
    }
   ],
   "execution_count": 19
  },
  {
   "metadata": {
    "ExecuteTime": {
     "end_time": "2025-08-07T03:17:20.111104Z",
     "start_time": "2025-08-07T03:12:00.490218Z"
    }
   },
   "cell_type": "code",
   "source": [
    "d1 = {'text': []}\n",
    "\n",
    "for text in tqdm(ds['text']):\n",
    "    sentences = nltk.sent_tokenize(text)\n",
    "\n",
    "    chunk_ids_list = []\n",
    "\n",
    "    for sentence in sentences:\n",
    "        sentence_ids = tokenizer.encode(sentence, add_special_tokens=False)\n",
    "\n",
    "        if len(chunk_ids_list) + len(sentence_ids) > 512:\n",
    "            if chunk_ids_list:\n",
    "                d1['text'].append(chunk_ids_list)\n",
    "            chunk_ids_list = sentence_ids\n",
    "        else:\n",
    "            chunk_ids_list.extend(sentence_ids)\n",
    "\n",
    "    if chunk_ids_list: # 남은게 있으면\n",
    "        d1['text'].append(chunk_ids_list)\n"
   ],
   "id": "ddb5d092de000a94",
   "outputs": [
    {
     "data": {
      "text/plain": [
       "  0%|          | 0/120000 [00:00<?, ?it/s]"
      ],
      "application/vnd.jupyter.widget-view+json": {
       "version_major": 2,
       "version_minor": 0,
       "model_id": "7af68926d7534016a3a267b0d719dab1"
      }
     },
     "metadata": {},
     "output_type": "display_data"
    },
    {
     "name": "stderr",
     "output_type": "stream",
     "text": [
      "Token indices sequence length is longer than the specified maximum sequence length for this model (1602 > 1024). Running this sequence through the model will result in indexing errors\n"
     ]
    }
   ],
   "execution_count": 20
  },
  {
   "metadata": {
    "ExecuteTime": {
     "end_time": "2025-08-07T03:17:20.268683Z",
     "start_time": "2025-08-07T03:17:20.253724Z"
    }
   },
   "cell_type": "code",
   "source": "len(d1['text'])",
   "id": "1a216c63b698cc65",
   "outputs": [
    {
     "data": {
      "text/plain": [
       "200466"
      ]
     },
     "execution_count": 21,
     "metadata": {},
     "output_type": "execute_result"
    }
   ],
   "execution_count": 21
  },
  {
   "metadata": {
    "ExecuteTime": {
     "end_time": "2025-08-07T03:17:20.316555Z",
     "start_time": "2025-08-07T03:17:20.288630Z"
    }
   },
   "cell_type": "code",
   "source": [
    "temp = []\n",
    "for text in d1['text']:\n",
    "    temp.append(text)"
   ],
   "id": "5b177b897b927ed6",
   "outputs": [],
   "execution_count": 22
  },
  {
   "metadata": {
    "ExecuteTime": {
     "end_time": "2025-08-07T03:17:23.303129Z",
     "start_time": "2025-08-07T03:17:20.323538Z"
    }
   },
   "cell_type": "code",
   "source": [
    "i = 0\n",
    "num_lists = len(temp)\n",
    "recompressed = []\n",
    "\n",
    "while i < num_lists:\n",
    "    current_list = list(temp[i])\n",
    "    i += 1\n",
    "\n",
    "    while i < num_lists:\n",
    "        next_list = temp[i]\n",
    "        if len(current_list) + len(next_list) <= 512:\n",
    "            current_list.extend(next_list)\n",
    "            i += 1\n",
    "        else:\n",
    "            break\n",
    "    recompressed.append(current_list)\n",
    "\n",
    "d2 = {\n",
    "    'text': recompressed,\n",
    "}"
   ],
   "id": "10d791708b18f1b9",
   "outputs": [],
   "execution_count": 23
  },
  {
   "metadata": {
    "ExecuteTime": {
     "end_time": "2025-08-07T03:17:23.319091Z",
     "start_time": "2025-08-07T03:17:23.310116Z"
    }
   },
   "cell_type": "code",
   "source": "len(d2['text'])",
   "id": "dca74c19a8ce63f8",
   "outputs": [
    {
     "data": {
      "text/plain": [
       "166472"
      ]
     },
     "execution_count": 24,
     "metadata": {},
     "output_type": "execute_result"
    }
   ],
   "execution_count": 24
  },
  {
   "metadata": {},
   "cell_type": "code",
   "outputs": [],
   "execution_count": null,
   "source": "",
   "id": "fdeaeece2479830b"
  },
  {
   "metadata": {
    "ExecuteTime": {
     "end_time": "2025-08-06T11:30:19.836502Z",
     "start_time": "2025-08-06T11:30:07.193722Z"
    }
   },
   "cell_type": "code",
   "source": "dataset = Dataset.from_dict(d2)",
   "id": "4c52363d525a81ef",
   "outputs": [],
   "execution_count": 203
  },
  {
   "metadata": {
    "ExecuteTime": {
     "end_time": "2025-08-06T11:30:20.787545Z",
     "start_time": "2025-08-06T11:30:19.852459Z"
    }
   },
   "cell_type": "code",
   "source": [
    "train_ds = dataset.train_test_split(test_size=0.2)\n",
    "\n",
    "dataset = DatasetDict({\n",
    "    'train': train_ds['train'],\n",
    "    'valid': train_ds['test'],\n",
    "})"
   ],
   "id": "e7a603c7f1190b04",
   "outputs": [],
   "execution_count": 204
  },
  {
   "metadata": {
    "ExecuteTime": {
     "end_time": "2025-08-06T11:30:20.873660Z",
     "start_time": "2025-08-06T11:30:20.835783Z"
    }
   },
   "cell_type": "code",
   "source": "print(dataset)",
   "id": "1195d5fe08130cad",
   "outputs": [
    {
     "name": "stdout",
     "output_type": "stream",
     "text": [
      "DatasetDict({\n",
      "    train: Dataset({\n",
      "        features: ['text'],\n",
      "        num_rows: 149668\n",
      "    })\n",
      "    valid: Dataset({\n",
      "        features: ['text'],\n",
      "        num_rows: 37417\n",
      "    })\n",
      "})\n"
     ]
    }
   ],
   "execution_count": 205
  },
  {
   "metadata": {
    "ExecuteTime": {
     "end_time": "2025-08-06T11:30:26.608979Z",
     "start_time": "2025-08-06T11:30:20.895591Z"
    }
   },
   "cell_type": "code",
   "source": [
    "dataset.save_to_disk('token_ids_dataset_for_t5_pretraining')\n",
    "dataset = load_from_disk(current_directory+'\\\\token_ids_dataset_for_t5_pretraining')"
   ],
   "id": "6c58b102e45984c9",
   "outputs": [
    {
     "data": {
      "text/plain": [
       "Saving the dataset (0/1 shards):   0%|          | 0/149668 [00:00<?, ? examples/s]"
      ],
      "application/vnd.jupyter.widget-view+json": {
       "version_major": 2,
       "version_minor": 0,
       "model_id": "6d258fa4605244d6a62c873e0568bdd6"
      }
     },
     "metadata": {},
     "output_type": "display_data"
    },
    {
     "data": {
      "text/plain": [
       "Saving the dataset (0/1 shards):   0%|          | 0/37417 [00:00<?, ? examples/s]"
      ],
      "application/vnd.jupyter.widget-view+json": {
       "version_major": 2,
       "version_minor": 0,
       "model_id": "89377565c00f45a28c1fc6d509bc47f5"
      }
     },
     "metadata": {},
     "output_type": "display_data"
    }
   ],
   "execution_count": 206
  },
  {
   "metadata": {
    "ExecuteTime": {
     "end_time": "2025-08-06T11:30:56.613835Z",
     "start_time": "2025-08-06T11:30:56.603872Z"
    }
   },
   "cell_type": "code",
   "source": [
    "#create_repo(\"token_ids_dataset_for_t5_pretraining\", repo_type=\"dataset\")\n",
    "#dataset.push_to_hub(\"hyunjaehyun/token_ids_dataset_for_t5_pretraining\")"
   ],
   "id": "86764d39e9ab81b4",
   "outputs": [],
   "execution_count": null
  },
  {
   "metadata": {
    "ExecuteTime": {
     "end_time": "2025-08-06T10:38:19.223908Z",
     "start_time": "2025-08-06T10:38:18.589513Z"
    }
   },
   "cell_type": "code",
   "source": [
    "#from huggingface_hub import delete_repo\n",
    "#delete_repo(repo_id=\"hyunjaehyun/token_ids_dataset_for_t5_pretraining\", repo_type=\"dataset\")"
   ],
   "id": "43777e5e50144da6",
   "outputs": [],
   "execution_count": 128
  },
  {
   "metadata": {},
   "cell_type": "code",
   "outputs": [],
   "execution_count": null,
   "source": "",
   "id": "5d27b5afb2d20e06"
  }
 ],
 "metadata": {
  "kernelspec": {
   "display_name": "PyTorchProject",
   "language": "python",
   "name": "pytorchproject"
  },
  "language_info": {
   "codemirror_mode": {
    "name": "ipython",
    "version": 2
   },
   "file_extension": ".py",
   "mimetype": "text/x-python",
   "name": "python",
   "nbconvert_exporter": "python",
   "pygments_lexer": "ipython2",
   "version": "2.7.6"
  }
 },
 "nbformat": 4,
 "nbformat_minor": 5
}
