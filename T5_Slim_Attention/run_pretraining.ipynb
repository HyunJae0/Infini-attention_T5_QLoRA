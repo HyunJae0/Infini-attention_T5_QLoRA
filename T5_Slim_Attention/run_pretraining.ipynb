{
 "cells": [
  {
   "cell_type": "code",
   "execution_count": 38,
   "id": "ec845ca0-6898-4c9e-9a12-95f2f3fa43f2",
   "metadata": {},
   "outputs": [
    {
     "name": "stdout",
     "output_type": "stream",
     "text": [
      "The model has 69,842,432 trainable parameters\n",
      "\n",
      "Epoch: 1\n"
     ]
    },
    {
     "data": {
      "application/vnd.jupyter.widget-view+json": {
       "model_id": "5b05bb19ea474c94972e18f878e18f83",
       "version_major": 2,
       "version_minor": 0
      },
      "text/plain": [
       "Training ...:   0%|          | 0/1670 [00:00<?, ?it/s]"
      ]
     },
     "metadata": {},
     "output_type": "display_data"
    },
    {
     "name": "stdout",
     "output_type": "stream",
     "text": [
      "Train Loss: 6.3208 | Train PPL: 556.02\n"
     ]
    },
    {
     "data": {
      "application/vnd.jupyter.widget-view+json": {
       "model_id": "1a5b9760fd5c44f7b9a9dd72ed5024df",
       "version_major": 2,
       "version_minor": 0
      },
      "text/plain": [
       "Evaluating ...:   0%|          | 0/417 [00:00<?, ?it/s]"
      ]
     },
     "metadata": {},
     "output_type": "display_data"
    },
    {
     "name": "stdout",
     "output_type": "stream",
     "text": [
      "Valid Loss: 5.4758 | Valid PPL: 238.85\n",
      "New model saved with validation loss: 5.4758\n",
      "\n",
      "Epoch: 2\n"
     ]
    },
    {
     "data": {
      "application/vnd.jupyter.widget-view+json": {
       "model_id": "44071fdc7bc647a08809710c46af2703",
       "version_major": 2,
       "version_minor": 0
      },
      "text/plain": [
       "Training ...:   0%|          | 0/1670 [00:00<?, ?it/s]"
      ]
     },
     "metadata": {},
     "output_type": "display_data"
    },
    {
     "name": "stdout",
     "output_type": "stream",
     "text": [
      "Train Loss: 5.2804 | Train PPL: 196.45\n"
     ]
    },
    {
     "data": {
      "application/vnd.jupyter.widget-view+json": {
       "model_id": "5ac2456c45094a56a20880cfcc7dd0c2",
       "version_major": 2,
       "version_minor": 0
      },
      "text/plain": [
       "Evaluating ...:   0%|          | 0/417 [00:00<?, ?it/s]"
      ]
     },
     "metadata": {},
     "output_type": "display_data"
    },
    {
     "name": "stdout",
     "output_type": "stream",
     "text": [
      "Valid Loss: 5.0793 | Valid PPL: 160.66\n",
      "New model saved with validation loss: 5.0793\n",
      "\n",
      "Epoch: 3\n"
     ]
    },
    {
     "data": {
      "application/vnd.jupyter.widget-view+json": {
       "model_id": "0657323cd6ec46c38381257cc178e754",
       "version_major": 2,
       "version_minor": 0
      },
      "text/plain": [
       "Training ...:   0%|          | 0/1670 [00:00<?, ?it/s]"
      ]
     },
     "metadata": {},
     "output_type": "display_data"
    },
    {
     "name": "stdout",
     "output_type": "stream",
     "text": [
      "Train Loss: 5.0086 | Train PPL: 149.69\n"
     ]
    },
    {
     "data": {
      "application/vnd.jupyter.widget-view+json": {
       "model_id": "05f45b3724a1458781eaf586053c3329",
       "version_major": 2,
       "version_minor": 0
      },
      "text/plain": [
       "Evaluating ...:   0%|          | 0/417 [00:00<?, ?it/s]"
      ]
     },
     "metadata": {},
     "output_type": "display_data"
    },
    {
     "name": "stdout",
     "output_type": "stream",
     "text": [
      "Valid Loss: 4.8739 | Valid PPL: 130.82\n",
      "New model saved with validation loss: 4.8739\n",
      "\n",
      "Epoch: 4\n"
     ]
    },
    {
     "data": {
      "application/vnd.jupyter.widget-view+json": {
       "model_id": "22b03fc5c0e34caf96281831cfe70adb",
       "version_major": 2,
       "version_minor": 0
      },
      "text/plain": [
       "Training ...:   0%|          | 0/1670 [00:00<?, ?it/s]"
      ]
     },
     "metadata": {},
     "output_type": "display_data"
    },
    {
     "name": "stdout",
     "output_type": "stream",
     "text": [
      "Train Loss: 4.8308 | Train PPL: 125.32\n"
     ]
    },
    {
     "data": {
      "application/vnd.jupyter.widget-view+json": {
       "model_id": "0b9785e019b147acb2a48741b9c944a0",
       "version_major": 2,
       "version_minor": 0
      },
      "text/plain": [
       "Evaluating ...:   0%|          | 0/417 [00:00<?, ?it/s]"
      ]
     },
     "metadata": {},
     "output_type": "display_data"
    },
    {
     "name": "stdout",
     "output_type": "stream",
     "text": [
      "Valid Loss: 4.7316 | Valid PPL: 113.47\n",
      "New model saved with validation loss: 4.7316\n",
      "\n",
      "Epoch: 5\n"
     ]
    },
    {
     "data": {
      "application/vnd.jupyter.widget-view+json": {
       "model_id": "6f114edd11114f44bbe98f045c177593",
       "version_major": 2,
       "version_minor": 0
      },
      "text/plain": [
       "Training ...:   0%|          | 0/1670 [00:00<?, ?it/s]"
      ]
     },
     "metadata": {},
     "output_type": "display_data"
    },
    {
     "name": "stdout",
     "output_type": "stream",
     "text": [
      "Train Loss: 4.7096 | Train PPL: 111.01\n"
     ]
    },
    {
     "data": {
      "application/vnd.jupyter.widget-view+json": {
       "model_id": "f8e93a3b16ed4e2084b77a1f3a990a73",
       "version_major": 2,
       "version_minor": 0
      },
      "text/plain": [
       "Evaluating ...:   0%|          | 0/417 [00:00<?, ?it/s]"
      ]
     },
     "metadata": {},
     "output_type": "display_data"
    },
    {
     "name": "stdout",
     "output_type": "stream",
     "text": [
      "Valid Loss: 4.6294 | Valid PPL: 102.45\n",
      "New model saved with validation loss: 4.6294\n",
      "\n",
      "Epoch: 6\n"
     ]
    },
    {
     "data": {
      "application/vnd.jupyter.widget-view+json": {
       "model_id": "b40183bb14fd4ce394ab1238b79cbed9",
       "version_major": 2,
       "version_minor": 0
      },
      "text/plain": [
       "Training ...:   0%|          | 0/1670 [00:00<?, ?it/s]"
      ]
     },
     "metadata": {},
     "output_type": "display_data"
    },
    {
     "name": "stdout",
     "output_type": "stream",
     "text": [
      "Train Loss: 4.6203 | Train PPL: 101.53\n"
     ]
    },
    {
     "data": {
      "application/vnd.jupyter.widget-view+json": {
       "model_id": "7f962bd86e8a4b8480c3c6c184a54b3c",
       "version_major": 2,
       "version_minor": 0
      },
      "text/plain": [
       "Evaluating ...:   0%|          | 0/417 [00:00<?, ?it/s]"
      ]
     },
     "metadata": {},
     "output_type": "display_data"
    },
    {
     "name": "stdout",
     "output_type": "stream",
     "text": [
      "Valid Loss: 4.5431 | Valid PPL: 93.98\n",
      "New model saved with validation loss: 4.5431\n",
      "\n",
      "Epoch: 7\n"
     ]
    },
    {
     "data": {
      "application/vnd.jupyter.widget-view+json": {
       "model_id": "1e8ee2b1020a43be961c46fdcea30976",
       "version_major": 2,
       "version_minor": 0
      },
      "text/plain": [
       "Training ...:   0%|          | 0/1670 [00:00<?, ?it/s]"
      ]
     },
     "metadata": {},
     "output_type": "display_data"
    },
    {
     "name": "stdout",
     "output_type": "stream",
     "text": [
      "Train Loss: 4.5402 | Train PPL: 93.71\n"
     ]
    },
    {
     "data": {
      "application/vnd.jupyter.widget-view+json": {
       "model_id": "3b8c0f82e50448d5a52d4784b24ef5d1",
       "version_major": 2,
       "version_minor": 0
      },
      "text/plain": [
       "Evaluating ...:   0%|          | 0/417 [00:00<?, ?it/s]"
      ]
     },
     "metadata": {},
     "output_type": "display_data"
    },
    {
     "name": "stdout",
     "output_type": "stream",
     "text": [
      "Valid Loss: 4.4614 | Valid PPL: 86.61\n",
      "New model saved with validation loss: 4.4614\n",
      "\n",
      "Epoch: 8\n"
     ]
    },
    {
     "data": {
      "application/vnd.jupyter.widget-view+json": {
       "model_id": "063caf8c0acd422498ee2737d8f8bf1b",
       "version_major": 2,
       "version_minor": 0
      },
      "text/plain": [
       "Training ...:   0%|          | 0/1670 [00:00<?, ?it/s]"
      ]
     },
     "metadata": {},
     "output_type": "display_data"
    },
    {
     "name": "stdout",
     "output_type": "stream",
     "text": [
      "Train Loss: 4.4691 | Train PPL: 87.28\n"
     ]
    },
    {
     "data": {
      "application/vnd.jupyter.widget-view+json": {
       "model_id": "e25056f3b6da470abb58e449e59c7c45",
       "version_major": 2,
       "version_minor": 0
      },
      "text/plain": [
       "Evaluating ...:   0%|          | 0/417 [00:00<?, ?it/s]"
      ]
     },
     "metadata": {},
     "output_type": "display_data"
    },
    {
     "name": "stdout",
     "output_type": "stream",
     "text": [
      "Valid Loss: 4.4001 | Valid PPL: 81.46\n",
      "New model saved with validation loss: 4.4001\n",
      "\n",
      "Epoch: 9\n"
     ]
    },
    {
     "data": {
      "application/vnd.jupyter.widget-view+json": {
       "model_id": "2c8dce84cd3947a99948a1acb77a3062",
       "version_major": 2,
       "version_minor": 0
      },
      "text/plain": [
       "Training ...:   0%|          | 0/1670 [00:00<?, ?it/s]"
      ]
     },
     "metadata": {},
     "output_type": "display_data"
    },
    {
     "name": "stdout",
     "output_type": "stream",
     "text": [
      "Train Loss: 4.3996 | Train PPL: 81.41\n"
     ]
    },
    {
     "data": {
      "application/vnd.jupyter.widget-view+json": {
       "model_id": "c2fc64cf66ac41169056fad1387c1a0b",
       "version_major": 2,
       "version_minor": 0
      },
      "text/plain": [
       "Evaluating ...:   0%|          | 0/417 [00:00<?, ?it/s]"
      ]
     },
     "metadata": {},
     "output_type": "display_data"
    },
    {
     "name": "stdout",
     "output_type": "stream",
     "text": [
      "Valid Loss: 4.3060 | Valid PPL: 74.14\n",
      "New model saved with validation loss: 4.3060\n",
      "\n",
      "Epoch: 10\n"
     ]
    },
    {
     "data": {
      "application/vnd.jupyter.widget-view+json": {
       "model_id": "5f5e8ab6ff2e4f06947e674288edb6f6",
       "version_major": 2,
       "version_minor": 0
      },
      "text/plain": [
       "Training ...:   0%|          | 0/1670 [00:00<?, ?it/s]"
      ]
     },
     "metadata": {},
     "output_type": "display_data"
    },
    {
     "name": "stdout",
     "output_type": "stream",
     "text": [
      "Train Loss: 4.3279 | Train PPL: 75.79\n"
     ]
    },
    {
     "data": {
      "application/vnd.jupyter.widget-view+json": {
       "model_id": "ab834cda96f14d12bf72898e01e4d3a9",
       "version_major": 2,
       "version_minor": 0
      },
      "text/plain": [
       "Evaluating ...:   0%|          | 0/417 [00:00<?, ?it/s]"
      ]
     },
     "metadata": {},
     "output_type": "display_data"
    },
    {
     "name": "stdout",
     "output_type": "stream",
     "text": [
      "Valid Loss: 4.2223 | Valid PPL: 68.19\n",
      "New model saved with validation loss: 4.2223\n",
      "\n",
      "Epoch: 11\n"
     ]
    },
    {
     "data": {
      "application/vnd.jupyter.widget-view+json": {
       "model_id": "efd4ca0ab68941bb8863db05c479fc6e",
       "version_major": 2,
       "version_minor": 0
      },
      "text/plain": [
       "Training ...:   0%|          | 0/1670 [00:00<?, ?it/s]"
      ]
     },
     "metadata": {},
     "output_type": "display_data"
    },
    {
     "name": "stdout",
     "output_type": "stream",
     "text": [
      "Train Loss: 4.2574 | Train PPL: 70.62\n"
     ]
    },
    {
     "data": {
      "application/vnd.jupyter.widget-view+json": {
       "model_id": "0099c5d38e1b49f78c451a65777edbf1",
       "version_major": 2,
       "version_minor": 0
      },
      "text/plain": [
       "Evaluating ...:   0%|          | 0/417 [00:00<?, ?it/s]"
      ]
     },
     "metadata": {},
     "output_type": "display_data"
    },
    {
     "name": "stdout",
     "output_type": "stream",
     "text": [
      "Valid Loss: 4.1331 | Valid PPL: 62.37\n",
      "New model saved with validation loss: 4.1331\n",
      "\n",
      "Epoch: 12\n"
     ]
    },
    {
     "data": {
      "application/vnd.jupyter.widget-view+json": {
       "model_id": "330d0e2d825c475a8a5795a09b315a7a",
       "version_major": 2,
       "version_minor": 0
      },
      "text/plain": [
       "Training ...:   0%|          | 0/1670 [00:00<?, ?it/s]"
      ]
     },
     "metadata": {},
     "output_type": "display_data"
    },
    {
     "name": "stdout",
     "output_type": "stream",
     "text": [
      "Train Loss: 4.1607 | Train PPL: 64.12\n"
     ]
    },
    {
     "data": {
      "application/vnd.jupyter.widget-view+json": {
       "model_id": "444bb0c6a17943f0963128eebb1dde65",
       "version_major": 2,
       "version_minor": 0
      },
      "text/plain": [
       "Evaluating ...:   0%|          | 0/417 [00:00<?, ?it/s]"
      ]
     },
     "metadata": {},
     "output_type": "display_data"
    },
    {
     "name": "stdout",
     "output_type": "stream",
     "text": [
      "Valid Loss: 3.9696 | Valid PPL: 52.96\n",
      "New model saved with validation loss: 3.9696\n",
      "\n",
      "Epoch: 13\n"
     ]
    },
    {
     "data": {
      "application/vnd.jupyter.widget-view+json": {
       "model_id": "bdbef1b815b84aa1ae87d03c939e30af",
       "version_major": 2,
       "version_minor": 0
      },
      "text/plain": [
       "Training ...:   0%|          | 0/1670 [00:00<?, ?it/s]"
      ]
     },
     "metadata": {},
     "output_type": "display_data"
    },
    {
     "name": "stdout",
     "output_type": "stream",
     "text": [
      "Train Loss: 3.9825 | Train PPL: 53.65\n"
     ]
    },
    {
     "data": {
      "application/vnd.jupyter.widget-view+json": {
       "model_id": "23a93577b4674b3d9e36ec4baf13e25c",
       "version_major": 2,
       "version_minor": 0
      },
      "text/plain": [
       "Evaluating ...:   0%|          | 0/417 [00:00<?, ?it/s]"
      ]
     },
     "metadata": {},
     "output_type": "display_data"
    },
    {
     "name": "stdout",
     "output_type": "stream",
     "text": [
      "Valid Loss: 3.7737 | Valid PPL: 43.54\n",
      "New model saved with validation loss: 3.7737\n",
      "\n",
      "Epoch: 14\n"
     ]
    },
    {
     "data": {
      "application/vnd.jupyter.widget-view+json": {
       "model_id": "9f5b6a5a72a0441bbe9223beaa97d624",
       "version_major": 2,
       "version_minor": 0
      },
      "text/plain": [
       "Training ...:   0%|          | 0/1670 [00:00<?, ?it/s]"
      ]
     },
     "metadata": {},
     "output_type": "display_data"
    },
    {
     "name": "stdout",
     "output_type": "stream",
     "text": [
      "Train Loss: 3.8267 | Train PPL: 45.91\n"
     ]
    },
    {
     "data": {
      "application/vnd.jupyter.widget-view+json": {
       "model_id": "52bf18cdc91b4f0ebf2042ed1a17fe9e",
       "version_major": 2,
       "version_minor": 0
      },
      "text/plain": [
       "Evaluating ...:   0%|          | 0/417 [00:00<?, ?it/s]"
      ]
     },
     "metadata": {},
     "output_type": "display_data"
    },
    {
     "name": "stdout",
     "output_type": "stream",
     "text": [
      "Valid Loss: 3.6465 | Valid PPL: 38.34\n",
      "New model saved with validation loss: 3.6465\n",
      "\n",
      "Epoch: 15\n"
     ]
    },
    {
     "data": {
      "application/vnd.jupyter.widget-view+json": {
       "model_id": "07770e3127034ecdb9add290a752d55e",
       "version_major": 2,
       "version_minor": 0
      },
      "text/plain": [
       "Training ...:   0%|          | 0/1670 [00:00<?, ?it/s]"
      ]
     },
     "metadata": {},
     "output_type": "display_data"
    },
    {
     "name": "stdout",
     "output_type": "stream",
     "text": [
      "Train Loss: 3.6762 | Train PPL: 39.50\n"
     ]
    },
    {
     "data": {
      "application/vnd.jupyter.widget-view+json": {
       "model_id": "2a1ed2a297514470bae55f9dd2a2c970",
       "version_major": 2,
       "version_minor": 0
      },
      "text/plain": [
       "Evaluating ...:   0%|          | 0/417 [00:00<?, ?it/s]"
      ]
     },
     "metadata": {},
     "output_type": "display_data"
    },
    {
     "name": "stdout",
     "output_type": "stream",
     "text": [
      "Valid Loss: 3.5067 | Valid PPL: 33.34\n",
      "New model saved with validation loss: 3.5067\n",
      "\n",
      "Epoch: 16\n"
     ]
    },
    {
     "data": {
      "application/vnd.jupyter.widget-view+json": {
       "model_id": "6f11587b86d1428cbc50f5c825174381",
       "version_major": 2,
       "version_minor": 0
      },
      "text/plain": [
       "Training ...:   0%|          | 0/1670 [00:00<?, ?it/s]"
      ]
     },
     "metadata": {},
     "output_type": "display_data"
    },
    {
     "name": "stdout",
     "output_type": "stream",
     "text": [
      "Train Loss: 3.5436 | Train PPL: 34.59\n"
     ]
    },
    {
     "data": {
      "application/vnd.jupyter.widget-view+json": {
       "model_id": "be66eea940dd443b81541151638d3a92",
       "version_major": 2,
       "version_minor": 0
      },
      "text/plain": [
       "Evaluating ...:   0%|          | 0/417 [00:00<?, ?it/s]"
      ]
     },
     "metadata": {},
     "output_type": "display_data"
    },
    {
     "name": "stdout",
     "output_type": "stream",
     "text": [
      "Valid Loss: 3.3918 | Valid PPL: 29.72\n",
      "New model saved with validation loss: 3.3918\n",
      "\n",
      "Epoch: 17\n"
     ]
    },
    {
     "data": {
      "application/vnd.jupyter.widget-view+json": {
       "model_id": "af36b32e7af6455db1481ff9c90f6d64",
       "version_major": 2,
       "version_minor": 0
      },
      "text/plain": [
       "Training ...:   0%|          | 0/1670 [00:00<?, ?it/s]"
      ]
     },
     "metadata": {},
     "output_type": "display_data"
    },
    {
     "name": "stdout",
     "output_type": "stream",
     "text": [
      "Train Loss: 3.4472 | Train PPL: 31.41\n"
     ]
    },
    {
     "data": {
      "application/vnd.jupyter.widget-view+json": {
       "model_id": "fa850f0da4734f02a13a25864323130b",
       "version_major": 2,
       "version_minor": 0
      },
      "text/plain": [
       "Evaluating ...:   0%|          | 0/417 [00:00<?, ?it/s]"
      ]
     },
     "metadata": {},
     "output_type": "display_data"
    },
    {
     "name": "stdout",
     "output_type": "stream",
     "text": [
      "Valid Loss: 3.2920 | Valid PPL: 26.90\n",
      "New model saved with validation loss: 3.2920\n",
      "\n",
      "Epoch: 18\n"
     ]
    },
    {
     "data": {
      "application/vnd.jupyter.widget-view+json": {
       "model_id": "dbb44965bf3b4d62b15d742801940581",
       "version_major": 2,
       "version_minor": 0
      },
      "text/plain": [
       "Training ...:   0%|          | 0/1670 [00:00<?, ?it/s]"
      ]
     },
     "metadata": {},
     "output_type": "display_data"
    },
    {
     "name": "stdout",
     "output_type": "stream",
     "text": [
      "Train Loss: 3.3534 | Train PPL: 28.60\n"
     ]
    },
    {
     "data": {
      "application/vnd.jupyter.widget-view+json": {
       "model_id": "76d7b409f7654ca094e6e92736ef670a",
       "version_major": 2,
       "version_minor": 0
      },
      "text/plain": [
       "Evaluating ...:   0%|          | 0/417 [00:00<?, ?it/s]"
      ]
     },
     "metadata": {},
     "output_type": "display_data"
    },
    {
     "name": "stdout",
     "output_type": "stream",
     "text": [
      "Valid Loss: 3.2326 | Valid PPL: 25.35\n",
      "New model saved with validation loss: 3.2326\n",
      "\n",
      "Epoch: 19\n"
     ]
    },
    {
     "data": {
      "application/vnd.jupyter.widget-view+json": {
       "model_id": "d07003e8f8e848a3b24204eca39e44b3",
       "version_major": 2,
       "version_minor": 0
      },
      "text/plain": [
       "Training ...:   0%|          | 0/1670 [00:00<?, ?it/s]"
      ]
     },
     "metadata": {},
     "output_type": "display_data"
    },
    {
     "name": "stdout",
     "output_type": "stream",
     "text": [
      "Train Loss: 3.2911 | Train PPL: 26.87\n"
     ]
    },
    {
     "data": {
      "application/vnd.jupyter.widget-view+json": {
       "model_id": "f408a8ac8a6a47f4af0d049b3deb84ac",
       "version_major": 2,
       "version_minor": 0
      },
      "text/plain": [
       "Evaluating ...:   0%|          | 0/417 [00:00<?, ?it/s]"
      ]
     },
     "metadata": {},
     "output_type": "display_data"
    },
    {
     "name": "stdout",
     "output_type": "stream",
     "text": [
      "Valid Loss: 3.1783 | Valid PPL: 24.00\n",
      "New model saved with validation loss: 3.1783\n",
      "\n",
      "Epoch: 20\n"
     ]
    },
    {
     "data": {
      "application/vnd.jupyter.widget-view+json": {
       "model_id": "f83dca5bad494b6b889adf3c4dcff702",
       "version_major": 2,
       "version_minor": 0
      },
      "text/plain": [
       "Training ...:   0%|          | 0/1670 [00:00<?, ?it/s]"
      ]
     },
     "metadata": {},
     "output_type": "display_data"
    },
    {
     "name": "stdout",
     "output_type": "stream",
     "text": [
      "Train Loss: 3.2405 | Train PPL: 25.55\n"
     ]
    },
    {
     "data": {
      "application/vnd.jupyter.widget-view+json": {
       "model_id": "bb67e38b65f14ae18fecefb986afef4e",
       "version_major": 2,
       "version_minor": 0
      },
      "text/plain": [
       "Evaluating ...:   0%|          | 0/417 [00:00<?, ?it/s]"
      ]
     },
     "metadata": {},
     "output_type": "display_data"
    },
    {
     "name": "stdout",
     "output_type": "stream",
     "text": [
      "Valid Loss: 3.1277 | Valid PPL: 22.82\n",
      "New model saved with validation loss: 3.1277\n",
      "\n",
      "Epoch: 21\n"
     ]
    },
    {
     "data": {
      "application/vnd.jupyter.widget-view+json": {
       "model_id": "f96882d6ccab4ed8989b7481df7ede2b",
       "version_major": 2,
       "version_minor": 0
      },
      "text/plain": [
       "Training ...:   0%|          | 0/1670 [00:00<?, ?it/s]"
      ]
     },
     "metadata": {},
     "output_type": "display_data"
    },
    {
     "name": "stdout",
     "output_type": "stream",
     "text": [
      "Train Loss: 3.1962 | Train PPL: 24.44\n"
     ]
    },
    {
     "data": {
      "application/vnd.jupyter.widget-view+json": {
       "model_id": "d2bdbbe2c67a4ac195e6b8f5709e45e8",
       "version_major": 2,
       "version_minor": 0
      },
      "text/plain": [
       "Evaluating ...:   0%|          | 0/417 [00:00<?, ?it/s]"
      ]
     },
     "metadata": {},
     "output_type": "display_data"
    },
    {
     "name": "stdout",
     "output_type": "stream",
     "text": [
      "Valid Loss: 3.0935 | Valid PPL: 22.05\n",
      "New model saved with validation loss: 3.0935\n",
      "\n",
      "Epoch: 22\n"
     ]
    },
    {
     "data": {
      "application/vnd.jupyter.widget-view+json": {
       "model_id": "bab99c09519e4a75b799478f04291ef9",
       "version_major": 2,
       "version_minor": 0
      },
      "text/plain": [
       "Training ...:   0%|          | 0/1670 [00:00<?, ?it/s]"
      ]
     },
     "metadata": {},
     "output_type": "display_data"
    },
    {
     "name": "stdout",
     "output_type": "stream",
     "text": [
      "Train Loss: 3.1559 | Train PPL: 23.47\n"
     ]
    },
    {
     "data": {
      "application/vnd.jupyter.widget-view+json": {
       "model_id": "5228714c5f194367b0029344c5f09f73",
       "version_major": 2,
       "version_minor": 0
      },
      "text/plain": [
       "Evaluating ...:   0%|          | 0/417 [00:00<?, ?it/s]"
      ]
     },
     "metadata": {},
     "output_type": "display_data"
    },
    {
     "name": "stdout",
     "output_type": "stream",
     "text": [
      "Valid Loss: 3.0629 | Valid PPL: 21.39\n",
      "New model saved with validation loss: 3.0629\n",
      "\n",
      "Epoch: 23\n"
     ]
    },
    {
     "data": {
      "application/vnd.jupyter.widget-view+json": {
       "model_id": "b753e82b50c94b30be88aa49ee005c2e",
       "version_major": 2,
       "version_minor": 0
      },
      "text/plain": [
       "Training ...:   0%|          | 0/1670 [00:00<?, ?it/s]"
      ]
     },
     "metadata": {},
     "output_type": "display_data"
    },
    {
     "name": "stdout",
     "output_type": "stream",
     "text": [
      "Train Loss: 3.1229 | Train PPL: 22.71\n"
     ]
    },
    {
     "data": {
      "application/vnd.jupyter.widget-view+json": {
       "model_id": "ed5fd5189c1642e791f02f2330702c4c",
       "version_major": 2,
       "version_minor": 0
      },
      "text/plain": [
       "Evaluating ...:   0%|          | 0/417 [00:00<?, ?it/s]"
      ]
     },
     "metadata": {},
     "output_type": "display_data"
    },
    {
     "name": "stdout",
     "output_type": "stream",
     "text": [
      "Valid Loss: 3.0305 | Valid PPL: 20.71\n",
      "New model saved with validation loss: 3.0305\n",
      "\n",
      "Epoch: 24\n"
     ]
    },
    {
     "data": {
      "application/vnd.jupyter.widget-view+json": {
       "model_id": "430ad2ee554c4060872d7c5827cbfbb0",
       "version_major": 2,
       "version_minor": 0
      },
      "text/plain": [
       "Training ...:   0%|          | 0/1670 [00:00<?, ?it/s]"
      ]
     },
     "metadata": {},
     "output_type": "display_data"
    },
    {
     "name": "stdout",
     "output_type": "stream",
     "text": [
      "Train Loss: 3.0908 | Train PPL: 21.99\n"
     ]
    },
    {
     "data": {
      "application/vnd.jupyter.widget-view+json": {
       "model_id": "c9913d6dd04f4cadb0681bbaad29f9c6",
       "version_major": 2,
       "version_minor": 0
      },
      "text/plain": [
       "Evaluating ...:   0%|          | 0/417 [00:00<?, ?it/s]"
      ]
     },
     "metadata": {},
     "output_type": "display_data"
    },
    {
     "name": "stdout",
     "output_type": "stream",
     "text": [
      "Valid Loss: 3.0000 | Valid PPL: 20.09\n",
      "New model saved with validation loss: 3.0000\n",
      "\n",
      "Epoch: 25\n"
     ]
    },
    {
     "data": {
      "application/vnd.jupyter.widget-view+json": {
       "model_id": "7fc5afe2b5ba43ff8a07d435d6af4eaa",
       "version_major": 2,
       "version_minor": 0
      },
      "text/plain": [
       "Training ...:   0%|          | 0/1670 [00:00<?, ?it/s]"
      ]
     },
     "metadata": {},
     "output_type": "display_data"
    },
    {
     "name": "stdout",
     "output_type": "stream",
     "text": [
      "Train Loss: 3.0614 | Train PPL: 21.36\n"
     ]
    },
    {
     "data": {
      "application/vnd.jupyter.widget-view+json": {
       "model_id": "c2767fed27db413f95872cfee386f153",
       "version_major": 2,
       "version_minor": 0
      },
      "text/plain": [
       "Evaluating ...:   0%|          | 0/417 [00:00<?, ?it/s]"
      ]
     },
     "metadata": {},
     "output_type": "display_data"
    },
    {
     "name": "stdout",
     "output_type": "stream",
     "text": [
      "Valid Loss: 2.9731 | Valid PPL: 19.55\n",
      "New model saved with validation loss: 2.9731\n",
      "\n",
      "Epoch: 26\n"
     ]
    },
    {
     "data": {
      "application/vnd.jupyter.widget-view+json": {
       "model_id": "b271e62bfa5645d79d318ea5c65f6d36",
       "version_major": 2,
       "version_minor": 0
      },
      "text/plain": [
       "Training ...:   0%|          | 0/1670 [00:00<?, ?it/s]"
      ]
     },
     "metadata": {},
     "output_type": "display_data"
    },
    {
     "name": "stdout",
     "output_type": "stream",
     "text": [
      "Train Loss: 3.0370 | Train PPL: 20.84\n"
     ]
    },
    {
     "data": {
      "application/vnd.jupyter.widget-view+json": {
       "model_id": "59b59ad347254b3aa2ed035c69cfd114",
       "version_major": 2,
       "version_minor": 0
      },
      "text/plain": [
       "Evaluating ...:   0%|          | 0/417 [00:00<?, ?it/s]"
      ]
     },
     "metadata": {},
     "output_type": "display_data"
    },
    {
     "name": "stdout",
     "output_type": "stream",
     "text": [
      "Valid Loss: 2.9525 | Valid PPL: 19.15\n",
      "New model saved with validation loss: 2.9525\n",
      "\n",
      "Epoch: 27\n"
     ]
    },
    {
     "data": {
      "application/vnd.jupyter.widget-view+json": {
       "model_id": "13ab41ffecfe4bd5b69c85740dfd3a33",
       "version_major": 2,
       "version_minor": 0
      },
      "text/plain": [
       "Training ...:   0%|          | 0/1670 [00:00<?, ?it/s]"
      ]
     },
     "metadata": {},
     "output_type": "display_data"
    },
    {
     "name": "stdout",
     "output_type": "stream",
     "text": [
      "Train Loss: 3.0130 | Train PPL: 20.35\n"
     ]
    },
    {
     "data": {
      "application/vnd.jupyter.widget-view+json": {
       "model_id": "5a7ef4f2fe734c40be08a6a1daaa31d7",
       "version_major": 2,
       "version_minor": 0
      },
      "text/plain": [
       "Evaluating ...:   0%|          | 0/417 [00:00<?, ?it/s]"
      ]
     },
     "metadata": {},
     "output_type": "display_data"
    },
    {
     "name": "stdout",
     "output_type": "stream",
     "text": [
      "Valid Loss: 2.9277 | Valid PPL: 18.69\n",
      "New model saved with validation loss: 2.9277\n",
      "\n",
      "Epoch: 28\n"
     ]
    },
    {
     "data": {
      "application/vnd.jupyter.widget-view+json": {
       "model_id": "ba7eb5bc721b421d8f4704c8a15b8912",
       "version_major": 2,
       "version_minor": 0
      },
      "text/plain": [
       "Training ...:   0%|          | 0/1670 [00:00<?, ?it/s]"
      ]
     },
     "metadata": {},
     "output_type": "display_data"
    },
    {
     "name": "stdout",
     "output_type": "stream",
     "text": [
      "Train Loss: 2.9888 | Train PPL: 19.86\n"
     ]
    },
    {
     "data": {
      "application/vnd.jupyter.widget-view+json": {
       "model_id": "6a28738e3ca3400b9ec62e7d406d5c11",
       "version_major": 2,
       "version_minor": 0
      },
      "text/plain": [
       "Evaluating ...:   0%|          | 0/417 [00:00<?, ?it/s]"
      ]
     },
     "metadata": {},
     "output_type": "display_data"
    },
    {
     "name": "stdout",
     "output_type": "stream",
     "text": [
      "Valid Loss: 2.9087 | Valid PPL: 18.33\n",
      "New model saved with validation loss: 2.9087\n",
      "\n",
      "Epoch: 29\n"
     ]
    },
    {
     "data": {
      "application/vnd.jupyter.widget-view+json": {
       "model_id": "61648c1f6df84ab7a3fde0c3640a4589",
       "version_major": 2,
       "version_minor": 0
      },
      "text/plain": [
       "Training ...:   0%|          | 0/1670 [00:00<?, ?it/s]"
      ]
     },
     "metadata": {},
     "output_type": "display_data"
    },
    {
     "name": "stdout",
     "output_type": "stream",
     "text": [
      "Train Loss: 2.9680 | Train PPL: 19.45\n"
     ]
    },
    {
     "data": {
      "application/vnd.jupyter.widget-view+json": {
       "model_id": "0004b85e618c44f0a97d584ccb372aba",
       "version_major": 2,
       "version_minor": 0
      },
      "text/plain": [
       "Evaluating ...:   0%|          | 0/417 [00:00<?, ?it/s]"
      ]
     },
     "metadata": {},
     "output_type": "display_data"
    },
    {
     "name": "stdout",
     "output_type": "stream",
     "text": [
      "Valid Loss: 2.8891 | Valid PPL: 17.98\n",
      "New model saved with validation loss: 2.8891\n",
      "\n",
      "Epoch: 30\n"
     ]
    },
    {
     "data": {
      "application/vnd.jupyter.widget-view+json": {
       "model_id": "475ded543dd5414fbfb9c224f671b243",
       "version_major": 2,
       "version_minor": 0
      },
      "text/plain": [
       "Training ...:   0%|          | 0/1670 [00:00<?, ?it/s]"
      ]
     },
     "metadata": {},
     "output_type": "display_data"
    },
    {
     "name": "stdout",
     "output_type": "stream",
     "text": [
      "Train Loss: 2.9454 | Train PPL: 19.02\n"
     ]
    },
    {
     "data": {
      "application/vnd.jupyter.widget-view+json": {
       "model_id": "b659053c54274056a7170b01374602a4",
       "version_major": 2,
       "version_minor": 0
      },
      "text/plain": [
       "Evaluating ...:   0%|          | 0/417 [00:00<?, ?it/s]"
      ]
     },
     "metadata": {},
     "output_type": "display_data"
    },
    {
     "name": "stdout",
     "output_type": "stream",
     "text": [
      "Valid Loss: 2.8716 | Valid PPL: 17.67\n",
      "New model saved with validation loss: 2.8716\n",
      "\n",
      "Epoch: 31\n"
     ]
    },
    {
     "data": {
      "application/vnd.jupyter.widget-view+json": {
       "model_id": "6431a3dbb81a4447bc80f6e0dde2b18a",
       "version_major": 2,
       "version_minor": 0
      },
      "text/plain": [
       "Training ...:   0%|          | 0/1670 [00:00<?, ?it/s]"
      ]
     },
     "metadata": {},
     "output_type": "display_data"
    },
    {
     "name": "stdout",
     "output_type": "stream",
     "text": [
      "Train Loss: 2.9294 | Train PPL: 18.72\n"
     ]
    },
    {
     "data": {
      "application/vnd.jupyter.widget-view+json": {
       "model_id": "d3efbe5244bb40e08b7f7ed45a91a1a8",
       "version_major": 2,
       "version_minor": 0
      },
      "text/plain": [
       "Evaluating ...:   0%|          | 0/417 [00:00<?, ?it/s]"
      ]
     },
     "metadata": {},
     "output_type": "display_data"
    },
    {
     "name": "stdout",
     "output_type": "stream",
     "text": [
      "Valid Loss: 2.8540 | Valid PPL: 17.36\n",
      "New model saved with validation loss: 2.8540\n",
      "\n",
      "Epoch: 32\n"
     ]
    },
    {
     "data": {
      "application/vnd.jupyter.widget-view+json": {
       "model_id": "b359b70f2e774e3a95a05c6d4d05f5d4",
       "version_major": 2,
       "version_minor": 0
      },
      "text/plain": [
       "Training ...:   0%|          | 0/1670 [00:00<?, ?it/s]"
      ]
     },
     "metadata": {},
     "output_type": "display_data"
    },
    {
     "name": "stdout",
     "output_type": "stream",
     "text": [
      "Train Loss: 2.9095 | Train PPL: 18.35\n"
     ]
    },
    {
     "data": {
      "application/vnd.jupyter.widget-view+json": {
       "model_id": "f1054106356247b78cb90540ff474b25",
       "version_major": 2,
       "version_minor": 0
      },
      "text/plain": [
       "Evaluating ...:   0%|          | 0/417 [00:00<?, ?it/s]"
      ]
     },
     "metadata": {},
     "output_type": "display_data"
    },
    {
     "name": "stdout",
     "output_type": "stream",
     "text": [
      "Valid Loss: 2.8378 | Valid PPL: 17.08\n",
      "New model saved with validation loss: 2.8378\n",
      "\n",
      "Epoch: 33\n"
     ]
    },
    {
     "data": {
      "application/vnd.jupyter.widget-view+json": {
       "model_id": "82eea2da93384849823bcec4a150cf3b",
       "version_major": 2,
       "version_minor": 0
      },
      "text/plain": [
       "Training ...:   0%|          | 0/1670 [00:00<?, ?it/s]"
      ]
     },
     "metadata": {},
     "output_type": "display_data"
    },
    {
     "name": "stdout",
     "output_type": "stream",
     "text": [
      "Train Loss: 2.8947 | Train PPL: 18.08\n"
     ]
    },
    {
     "data": {
      "application/vnd.jupyter.widget-view+json": {
       "model_id": "a9105811f0854cff99386a4183063f3b",
       "version_major": 2,
       "version_minor": 0
      },
      "text/plain": [
       "Evaluating ...:   0%|          | 0/417 [00:00<?, ?it/s]"
      ]
     },
     "metadata": {},
     "output_type": "display_data"
    },
    {
     "name": "stdout",
     "output_type": "stream",
     "text": [
      "Valid Loss: 2.8211 | Valid PPL: 16.80\n",
      "New model saved with validation loss: 2.8211\n",
      "\n",
      "Epoch: 34\n"
     ]
    },
    {
     "data": {
      "application/vnd.jupyter.widget-view+json": {
       "model_id": "ce33578e4b034cb7a26e69df7e733c52",
       "version_major": 2,
       "version_minor": 0
      },
      "text/plain": [
       "Training ...:   0%|          | 0/1670 [00:00<?, ?it/s]"
      ]
     },
     "metadata": {},
     "output_type": "display_data"
    },
    {
     "name": "stdout",
     "output_type": "stream",
     "text": [
      "Train Loss: 2.8787 | Train PPL: 17.79\n"
     ]
    },
    {
     "data": {
      "application/vnd.jupyter.widget-view+json": {
       "model_id": "cc3052345b014b6b925d35e47b31b3a6",
       "version_major": 2,
       "version_minor": 0
      },
      "text/plain": [
       "Evaluating ...:   0%|          | 0/417 [00:00<?, ?it/s]"
      ]
     },
     "metadata": {},
     "output_type": "display_data"
    },
    {
     "name": "stdout",
     "output_type": "stream",
     "text": [
      "Valid Loss: 2.8084 | Valid PPL: 16.58\n",
      "New model saved with validation loss: 2.8084\n",
      "\n",
      "Epoch: 35\n"
     ]
    },
    {
     "data": {
      "application/vnd.jupyter.widget-view+json": {
       "model_id": "37c6ef7d740f4e02983e1dc8c6d16f01",
       "version_major": 2,
       "version_minor": 0
      },
      "text/plain": [
       "Training ...:   0%|          | 0/1670 [00:00<?, ?it/s]"
      ]
     },
     "metadata": {},
     "output_type": "display_data"
    },
    {
     "name": "stdout",
     "output_type": "stream",
     "text": [
      "Train Loss: 2.8649 | Train PPL: 17.55\n"
     ]
    },
    {
     "data": {
      "application/vnd.jupyter.widget-view+json": {
       "model_id": "c77376c706f842e18f3e07f516797e52",
       "version_major": 2,
       "version_minor": 0
      },
      "text/plain": [
       "Evaluating ...:   0%|          | 0/417 [00:00<?, ?it/s]"
      ]
     },
     "metadata": {},
     "output_type": "display_data"
    },
    {
     "name": "stdout",
     "output_type": "stream",
     "text": [
      "Valid Loss: 2.7941 | Valid PPL: 16.35\n",
      "New model saved with validation loss: 2.7941\n",
      "\n",
      "Epoch: 36\n"
     ]
    },
    {
     "data": {
      "application/vnd.jupyter.widget-view+json": {
       "model_id": "1fe88d145d5e48aca7b5b290fc1cbb12",
       "version_major": 2,
       "version_minor": 0
      },
      "text/plain": [
       "Training ...:   0%|          | 0/1670 [00:00<?, ?it/s]"
      ]
     },
     "metadata": {},
     "output_type": "display_data"
    },
    {
     "name": "stdout",
     "output_type": "stream",
     "text": [
      "Train Loss: 2.8463 | Train PPL: 17.22\n"
     ]
    },
    {
     "data": {
      "application/vnd.jupyter.widget-view+json": {
       "model_id": "17c766435c6b4589b27882c7c69206bd",
       "version_major": 2,
       "version_minor": 0
      },
      "text/plain": [
       "Evaluating ...:   0%|          | 0/417 [00:00<?, ?it/s]"
      ]
     },
     "metadata": {},
     "output_type": "display_data"
    },
    {
     "name": "stdout",
     "output_type": "stream",
     "text": [
      "Valid Loss: 2.7809 | Valid PPL: 16.13\n",
      "New model saved with validation loss: 2.7809\n",
      "\n",
      "Epoch: 37\n"
     ]
    },
    {
     "data": {
      "application/vnd.jupyter.widget-view+json": {
       "model_id": "75f93d13cd554263adcd1dbbfe72188b",
       "version_major": 2,
       "version_minor": 0
      },
      "text/plain": [
       "Training ...:   0%|          | 0/1670 [00:00<?, ?it/s]"
      ]
     },
     "metadata": {},
     "output_type": "display_data"
    },
    {
     "name": "stdout",
     "output_type": "stream",
     "text": [
      "Train Loss: 2.8344 | Train PPL: 17.02\n"
     ]
    },
    {
     "data": {
      "application/vnd.jupyter.widget-view+json": {
       "model_id": "919378ab71cd4e81b0554b7a8847e0f7",
       "version_major": 2,
       "version_minor": 0
      },
      "text/plain": [
       "Evaluating ...:   0%|          | 0/417 [00:00<?, ?it/s]"
      ]
     },
     "metadata": {},
     "output_type": "display_data"
    },
    {
     "name": "stdout",
     "output_type": "stream",
     "text": [
      "Valid Loss: 2.7697 | Valid PPL: 15.95\n",
      "New model saved with validation loss: 2.7697\n",
      "\n",
      "Epoch: 38\n"
     ]
    },
    {
     "data": {
      "application/vnd.jupyter.widget-view+json": {
       "model_id": "0d03b326d5494547aeb623f25a47306c",
       "version_major": 2,
       "version_minor": 0
      },
      "text/plain": [
       "Training ...:   0%|          | 0/1670 [00:00<?, ?it/s]"
      ]
     },
     "metadata": {},
     "output_type": "display_data"
    },
    {
     "name": "stdout",
     "output_type": "stream",
     "text": [
      "Train Loss: 2.8210 | Train PPL: 16.79\n"
     ]
    },
    {
     "data": {
      "application/vnd.jupyter.widget-view+json": {
       "model_id": "43bf46ab6b6d495c90144423d21f610d",
       "version_major": 2,
       "version_minor": 0
      },
      "text/plain": [
       "Evaluating ...:   0%|          | 0/417 [00:00<?, ?it/s]"
      ]
     },
     "metadata": {},
     "output_type": "display_data"
    },
    {
     "name": "stdout",
     "output_type": "stream",
     "text": [
      "Valid Loss: 2.7541 | Valid PPL: 15.71\n",
      "New model saved with validation loss: 2.7541\n",
      "\n",
      "Epoch: 39\n"
     ]
    },
    {
     "data": {
      "application/vnd.jupyter.widget-view+json": {
       "model_id": "38f83473f75d48d1942d499f27bba3e4",
       "version_major": 2,
       "version_minor": 0
      },
      "text/plain": [
       "Training ...:   0%|          | 0/1670 [00:00<?, ?it/s]"
      ]
     },
     "metadata": {},
     "output_type": "display_data"
    },
    {
     "name": "stdout",
     "output_type": "stream",
     "text": [
      "Train Loss: 2.8071 | Train PPL: 16.56\n"
     ]
    },
    {
     "data": {
      "application/vnd.jupyter.widget-view+json": {
       "model_id": "399d3d525f414d0d9a0a1acba5cc5b1f",
       "version_major": 2,
       "version_minor": 0
      },
      "text/plain": [
       "Evaluating ...:   0%|          | 0/417 [00:00<?, ?it/s]"
      ]
     },
     "metadata": {},
     "output_type": "display_data"
    },
    {
     "name": "stdout",
     "output_type": "stream",
     "text": [
      "Valid Loss: 2.7406 | Valid PPL: 15.50\n",
      "New model saved with validation loss: 2.7406\n",
      "\n",
      "Epoch: 40\n"
     ]
    },
    {
     "data": {
      "application/vnd.jupyter.widget-view+json": {
       "model_id": "fe533259d3fa4f4b87894862d4162a67",
       "version_major": 2,
       "version_minor": 0
      },
      "text/plain": [
       "Training ...:   0%|          | 0/1670 [00:00<?, ?it/s]"
      ]
     },
     "metadata": {},
     "output_type": "display_data"
    },
    {
     "name": "stdout",
     "output_type": "stream",
     "text": [
      "Train Loss: 2.7944 | Train PPL: 16.35\n"
     ]
    },
    {
     "data": {
      "application/vnd.jupyter.widget-view+json": {
       "model_id": "4c2fe090ee0a438eb5a2574829cf1073",
       "version_major": 2,
       "version_minor": 0
      },
      "text/plain": [
       "Evaluating ...:   0%|          | 0/417 [00:00<?, ?it/s]"
      ]
     },
     "metadata": {},
     "output_type": "display_data"
    },
    {
     "name": "stdout",
     "output_type": "stream",
     "text": [
      "Valid Loss: 2.7364 | Valid PPL: 15.43\n",
      "New model saved with validation loss: 2.7364\n",
      "avg memory usage: 7751429535.946347\n",
      "memory usage peak: 8020149760\n"
     ]
    },
    {
     "data": {
      "image/png": "[encoded data removed]",
      "text/plain": [
       "<Figure size 640x480 with 1 Axes>"
      ]
     },
     "metadata": {},
     "output_type": "display_data"
    }
   ],
   "source": [
    "if __name__ == \"__main__\":\n",
    "    config = T5Config()\n",
    "\n",
    "    current_directory = os.getcwd()\n",
    "    tokenizer = AutoTokenizer.from_pretrained('my_gpt2_tokenizer')\n",
    "\n",
    "    ds = load_dataset(\"hyunjaehyun/token_ids_dataset_for_t5_pretraining\")\n",
    "    train_ds, valid_ds = ds['train'], ds['valid']\n",
    "\n",
    "    format = {'type': 'torch', 'format_kwargs': {'dtype': torch.long}}\n",
    "    train_ds.set_format(**format)\n",
    "    valid_ds.set_format(**format)\n",
    "\n",
    "    train_dataloader = DataLoader(train_ds['text'], batch_size=config.batch_size, shuffle=True, drop_last=True)\n",
    "    valid_dataloader = DataLoader(valid_ds['text'], batch_size=config.batch_size, shuffle=False, drop_last=True)\n",
    "\n",
    "    model = T5Transformer(config).to(config.device)\n",
    "    model.apply(init_weights)\n",
    "    print(f'The model has {count_parameters(model):,} trainable parameters')\n",
    "    \n",
    "    criterion = nn.CrossEntropyLoss(ignore_index=config.pad_idx)\n",
    "\n",
    "    optimizer = Adafactor(model.parameters(), lr=config.lr)\n",
    "    lr_scheduler = get_inverse_sqrt_schedule(optimizer=optimizer, num_warmup_steps=config.warmup_steps)\n",
    "    scaler = GradScaler(enabled=True)\n",
    "\n",
    "    memory_usage = []\n",
    "\n",
    "    best_loss = float('inf')\n",
    "    patience_check, patience_limit = 0, 2\n",
    "    train_loss_list, valid_loss_list = [], []\n",
    "    for epoch in range(config.epochs):\n",
    "        print()\n",
    "        print(f'Epoch: {epoch+1}')\n",
    "        train_loss = train(model, train_dataloader, criterion, optimizer, lr_scheduler, scaler, tokenizer, memory_usage, config)\n",
    "        print(f'Train Loss: {train_loss:.4f} | Train PPL: {np.exp(train_loss):.2f}')\n",
    "        valid_loss = eval(model, valid_dataloader, criterion, tokenizer, config)\n",
    "        print(f'Valid Loss: {valid_loss:.4f} | Valid PPL: {np.exp(valid_loss):.2f}')\n",
    "\n",
    "        train_loss_list.append(train_loss)\n",
    "        valid_loss_list.append(valid_loss)\n",
    "\n",
    "        if valid_loss > best_loss:\n",
    "            patience_check += 1\n",
    "\n",
    "            if patience_check >= patience_limit: break\n",
    "\n",
    "        else:\n",
    "            best_loss = valid_loss\n",
    "            patience_check = 0\n",
    "            torch.save({\n",
    "                'epoch': epoch+1,\n",
    "                'model_state_dict': model.state_dict(),\n",
    "                'optimizer_state_dict': optimizer.state_dict(),\n",
    "                'loss': best_loss,\n",
    "                'lr_scheduler_state_dict': lr_scheduler.state_dict(),\n",
    "                'scaler_state_dict': scaler.state_dict()}, 't5_pretraining_best_model.pt')\n",
    "            print(f'New model saved with validation loss: {best_loss:.4f}')\n",
    "\n",
    "    torch.save({\n",
    "        'epoch': epoch+1,\n",
    "        'model_state_dict': model.state_dict(),\n",
    "        'optimizer_state_dict': optimizer.state_dict(),\n",
    "        'loss': best_loss,\n",
    "        'lr_scheduler_state_dict': lr_scheduler.state_dict(),\n",
    "        'scaler_state_dict': scaler.state_dict()}, 'last_epoch_model.pt')\n",
    "\n",
    "    print(f'avg memory usage: {np.mean(memory_usage)}')\n",
    "    print(f'memory usage peak: {np.max(memory_usage)}')\n",
    "\n",
    "    plt.plot(train_loss_list, label='train loss')\n",
    "    plt.plot(valid_loss_list, label='valid loss')\n",
    "\n",
    "    plt.xlabel('epochs')\n",
    "    plt.ylabel('loss')\n",
    "    plt.legend()\n",
    "    plt.grid(True)\n",
    "\n",
    "    plt.show()"
   ]
  },
  {
   "cell_type": "code",
   "execution_count": 46,
   "id": "8dd5bde1-f4e6-4737-a53d-8c3287a87d53",
   "metadata": {},
   "outputs": [],
   "source": [
    "def generate_examples(model, dataloader, tokenizer, st_model, config):\n",
    "    model.eval()\n",
    "\n",
    "    predictions_list, references_list = [], []\n",
    "    for batch in tqdm(dataloader, desc='Generate ...'):\n",
    "        batch = batch.to(config.device)\n",
    "        \n",
    "        src, _, _ = create_t5_pretraining_data(batch)\n",
    "        generated_ids = model.generate(src)\n",
    "        \n",
    "        generated_tokens = tokenizer.batch_decode(generated_ids, skip_special_tokens=True)\n",
    "        print(generated_tokens)\n",
    "        references = tokenizer.batch_decode(batch, skip_special_tokens=True)\n",
    "        predictions_list.extend(generated_tokens)\n",
    "        references_list.extend(references)\n",
    "\n",
    "    pred_embeddings = st_model.encode(predictions_list, batch_size=config.batch_size, convert_to_tensor=True, device=config.device, show_progress_bar=True)\n",
    "    ref_embeddings = st_model.encode(references_list, batch_size=config.batch_size, convert_to_tensor=True, device=config.device, show_progress_bar=True)\n",
    "\n",
    "    cosine_scores = util.pytorch_cos_sim(pred_embeddings, ref_embeddings)\n",
    "    scores = cosine_scores.diag()\n",
    "\n",
    "    avg_similarity = torch.mean(scores).item()\n",
    "    return avg_similarity"
   ]
  },
  {
   "cell_type": "code",
   "execution_count": 43,
   "id": "7df66b76-a7ae-4ae7-8ef2-6993f513b2ad",
   "metadata": {},
   "outputs": [
    {
     "name": "stdout",
     "output_type": "stream",
     "text": [
      "last epoch: 40, last_loss: 2.7364\n"
     ]
    }
   ],
   "source": [
    "checkpoint_path = 't5_pretraining_best_model.pt'\n",
    "checkpoint = torch.load(checkpoint_path, map_location=torch.device('cuda'))\n",
    "\n",
    "model = T5Transformer(config).to(config.device)\n",
    "model.load_state_dict(checkpoint['model_state_dict'])\n",
    "optimizer.load_state_dict(checkpoint['optimizer_state_dict'])\n",
    "lr_scheduler.load_state_dict(checkpoint['lr_scheduler_state_dict'])\n",
    "scaler.load_state_dict(checkpoint['scaler_state_dict'])\n",
    "\n",
    "print(f\"last epoch: {checkpoint['epoch']}, last_loss: {checkpoint['loss']:.4f}\")"
   ]
  },
  {
   "cell_type": "code",
   "execution_count": null,
   "id": "eb52f708-96c3-4d02-9dd5-11c26b54b287",
   "metadata": {},
   "outputs": [],
   "source": []
  }
 ],
 "metadata": {
  "kernelspec": {
   "display_name": "Python 3 (ipykernel)",
   "language": "python",
   "name": "python3"
  },
  "language_info": {
   "codemirror_mode": {
    "name": "ipython",
    "version": 3
   },
   "file_extension": ".py",
   "mimetype": "text/x-python",
   "name": "python",
   "nbconvert_exporter": "python",
   "pygments_lexer": "ipython3",
   "version": "3.11.11"
  }
 },
 "nbformat": 4,
 "nbformat_minor": 5
}
